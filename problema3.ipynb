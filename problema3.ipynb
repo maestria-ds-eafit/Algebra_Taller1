{
 "cells": [
  {
   "cell_type": "markdown",
   "metadata": {},
   "source": [
    "# Problema 3"
   ]
  },
  {
   "cell_type": "code",
   "execution_count": 95,
   "metadata": {},
   "outputs": [],
   "source": [
    "import matplotlib.pyplot as plt\n",
    "import numpy as np\n",
    "import random\n",
    "from ipywidgets import interact, widgets"
   ]
  },
  {
   "cell_type": "markdown",
   "metadata": {},
   "source": [
    "A)"
   ]
  },
  {
   "cell_type": "code",
   "execution_count": 96,
   "metadata": {},
   "outputs": [
    {
     "data": {
      "application/vnd.jupyter.widget-view+json": {
       "model_id": "5fd306640f59437080e9c282c36c71f2",
       "version_major": 2,
       "version_minor": 0
      },
      "text/plain": [
       "interactive(children=(FloatSlider(value=1.0, description='Radius', max=2.0, min=1.0), Dropdown(description='p'…"
      ]
     },
     "metadata": {},
     "output_type": "display_data"
    },
    {
     "data": {
      "text/plain": [
       "<function __main__.update_plot(r, p)>"
      ]
     },
     "execution_count": 96,
     "metadata": {},
     "output_type": "execute_result"
    }
   ],
   "source": [
    "def update_plot(r, p):\n",
    "    theta = np.linspace(0, 2 * np.pi, 1000)\n",
    "    r_factor = (r / ((np.abs(np.cos(theta)) ** p + np.abs(np.sin(theta)) ** p) ** (1 / p)))\n",
    "    x = r_factor * np.cos(theta)\n",
    "    y = r_factor * np.sin(theta)\n",
    "    plt.figure(figsize=(5, 5))\n",
    "    plt.plot(x, y)\n",
    "    plt.xlim(-r - 1, r + 1)\n",
    "    plt.ylim(-r - 1, r + 1)\n",
    "    plt.xlabel(\"X-axis\")\n",
    "    plt.ylabel(\"Y-axis\")\n",
    "    plt.grid(True)\n",
    "    plt.show()\n",
    "\n",
    "# Create an interactive slider to adjust the radius\n",
    "radius_slider = widgets.FloatSlider(\n",
    "    value=1.0, min=1.0, max=2.0, step=0.1, description=\"Radius\"\n",
    ")\n",
    "#p_slider = widgets.FloatSlider(value=2, min=1, max=10, step=1, description=\"p\")\n",
    "p_slider = widgets.Dropdown(options=[1, 2, 3, 1000],value=2, description=\"p\", disabled=False,)\n",
    "\n",
    "# Create an interactive plot\n",
    "interact(update_plot, r=radius_slider, p=p_slider)"
   ]
  },
  {
   "cell_type": "markdown",
   "metadata": {},
   "source": [
    "B)"
   ]
  },
  {
   "cell_type": "code",
   "execution_count": 97,
   "metadata": {},
   "outputs": [],
   "source": [
    "def random_vector(n, alpha, p):\n",
    "    random_vector = np.array([random.uniform(0, 100) for _ in range(n)])\n",
    "    norm = np.linalg.norm(random_vector, ord=p)\n",
    "    a = (random_vector/norm)*alpha\n",
    "    return a"
   ]
  },
  {
   "cell_type": "code",
   "execution_count": 98,
   "metadata": {},
   "outputs": [],
   "source": [
    "def generate_points(n, alpha, p):\n",
    "    points = []\n",
    "    for i in range(1,6):\n",
    "        v = random_vector(n, alpha, p)\n",
    "        points.append(v)\n",
    "    return(points)"
   ]
  },
  {
   "cell_type": "markdown",
   "metadata": {},
   "source": [
    "With Euclidean norm"
   ]
  },
  {
   "cell_type": "code",
   "execution_count": 99,
   "metadata": {},
   "outputs": [
    {
     "data": {
      "text/plain": [
       "[array([0.02059525, 0.02680737, 0.01128041, 0.00237865, 0.00810715,\n",
       "        0.02748621, 0.00891054, 0.00344217, 0.01737826, 0.00313475]),\n",
       " array([0.01704513, 0.02294971, 0.01801915, 0.01399118, 0.00391352,\n",
       "        0.0126903 , 0.01909111, 0.01024337, 0.00175732, 0.02266024]),\n",
       " array([0.00633836, 0.00733877, 0.0227215 , 0.01202941, 0.00263218,\n",
       "        0.02205567, 0.01478555, 0.0170855 , 0.01977535, 0.0187089 ]),\n",
       " array([0.01811819, 0.0060458 , 0.00956294, 0.01958524, 0.00848944,\n",
       "        0.02580724, 0.02200944, 0.01988601, 0.00649173, 0.00022994]),\n",
       " array([0.00107091, 0.02423132, 0.01517815, 0.0134135 , 0.0029978 ,\n",
       "        0.02383258, 0.01761221, 0.01091002, 0.02026404, 0.00919618])]"
      ]
     },
     "execution_count": 99,
     "metadata": {},
     "output_type": "execute_result"
    }
   ],
   "source": [
    "generate_points(10, 0.05, 2)"
   ]
  },
  {
   "cell_type": "markdown",
   "metadata": {},
   "source": [
    "With Manhattan norm"
   ]
  },
  {
   "cell_type": "code",
   "execution_count": 100,
   "metadata": {},
   "outputs": [
    {
     "data": {
      "text/plain": [
       "[array([8.94125112e-03, 9.79179306e-03, 6.45935508e-03, 6.38078095e-03,\n",
       "        5.12949960e-05, 3.57893244e-03, 5.87865646e-03, 4.04926305e-03,\n",
       "        3.04451053e-03, 1.82416230e-03]),\n",
       " array([0.00577436, 0.00543295, 0.0033981 , 0.00164182, 0.00743552,\n",
       "        0.00723489, 0.00342146, 0.00612371, 0.00214193, 0.00739525]),\n",
       " array([8.58299529e-05, 1.22103582e-02, 3.37037901e-03, 2.31041604e-03,\n",
       "        7.53886762e-03, 3.92287340e-04, 1.87203868e-03, 1.26955541e-02,\n",
       "        1.74150554e-03, 7.78276354e-03]),\n",
       " array([0.00140873, 0.00255501, 0.00563533, 0.01064049, 0.00955601,\n",
       "        0.00633842, 0.00071901, 0.00188556, 0.00278453, 0.0084769 ]),\n",
       " array([7.45932747e-03, 6.57751576e-03, 7.20539868e-03, 3.38528383e-03,\n",
       "        1.76671684e-03, 4.17545820e-03, 9.36190262e-05, 5.07949729e-03,\n",
       "        7.16889084e-03, 7.08829207e-03])]"
      ]
     },
     "execution_count": 100,
     "metadata": {},
     "output_type": "execute_result"
    }
   ],
   "source": [
    "generate_points(10, 0.05, 1)"
   ]
  },
  {
   "cell_type": "markdown",
   "metadata": {},
   "source": [
    "With Chebyshov norm"
   ]
  },
  {
   "cell_type": "code",
   "execution_count": 101,
   "metadata": {},
   "outputs": [
    {
     "data": {
      "text/plain": [
       "[array([0.0457046 , 0.04002132, 0.03337748, 0.0255848 , 0.01659603,\n",
       "        0.05      , 0.04945696, 0.01671236, 0.04866338, 0.03777686]),\n",
       " array([0.00328318, 0.04424696, 0.00179212, 0.03988603, 0.00882495,\n",
       "        0.00803161, 0.00805627, 0.03970298, 0.01086909, 0.05      ]),\n",
       " array([0.02389231, 0.01341758, 0.03398828, 0.02907321, 0.05      ,\n",
       "        0.04721958, 0.03568559, 0.00520981, 0.03462896, 0.03167766]),\n",
       " array([0.02685752, 0.0006768 , 0.00036353, 0.04245455, 0.0109766 ,\n",
       "        0.02313066, 0.05      , 0.01750654, 0.04685359, 0.03210693]),\n",
       " array([0.02794668, 0.00667756, 0.01818649, 0.01184424, 0.00792486,\n",
       "        0.05      , 0.04104957, 0.01024383, 0.03003615, 0.04560225])]"
      ]
     },
     "execution_count": 101,
     "metadata": {},
     "output_type": "execute_result"
    }
   ],
   "source": [
    "generate_points(10, 0.05, np.inf)"
   ]
  }
 ],
 "metadata": {
  "kernelspec": {
   "display_name": "Algebra_Sandbox-3T0psl7Q",
   "language": "python",
   "name": "python3"
  },
  "language_info": {
   "codemirror_mode": {
    "name": "ipython",
    "version": 3
   },
   "file_extension": ".py",
   "mimetype": "text/x-python",
   "name": "python",
   "nbconvert_exporter": "python",
   "pygments_lexer": "ipython3",
   "version": "3.11.5"
  },
  "orig_nbformat": 4
 },
 "nbformat": 4,
 "nbformat_minor": 2
}
