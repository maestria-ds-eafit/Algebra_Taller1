{
 "cells": [
  {
   "cell_type": "code",
   "execution_count": 88,
   "metadata": {},
   "outputs": [],
   "source": [
    "import matplotlib.pyplot as plt\n",
    "import numpy as np\n",
    "import random\n",
    "from ipywidgets import interact, widgets\n"
   ]
  },
  {
   "cell_type": "markdown",
   "metadata": {},
   "source": [
    "A)"
   ]
  },
  {
   "cell_type": "code",
   "execution_count": 89,
   "metadata": {},
   "outputs": [
    {
     "data": {
      "application/vnd.jupyter.widget-view+json": {
       "model_id": "73a1c475b8da47148a384f3e96d87cf1",
       "version_major": 2,
       "version_minor": 0
      },
      "text/plain": [
       "interactive(children=(FloatSlider(value=1.0, description='Radius', max=2.0, min=1.0), FloatSlider(value=2.0, d…"
      ]
     },
     "metadata": {},
     "output_type": "display_data"
    },
    {
     "data": {
      "text/plain": [
       "<function __main__.update_plot(r, p)>"
      ]
     },
     "execution_count": 89,
     "metadata": {},
     "output_type": "execute_result"
    }
   ],
   "source": [
    "center = [0, 0]\n",
    "\n",
    "\n",
    "def update_plot(r, p):\n",
    "    theta = np.linspace(0, 2 * np.pi, 1000)\n",
    "    r_factor = (r / ((np.abs(np.cos(theta)) ** p + np.abs(np.sin(theta)) ** p) ** (1 / p)))\n",
    "    x = r_factor * np.cos(theta)\n",
    "    y = r_factor * np.sin(theta)\n",
    "    _, ax = plt.subplots(figsize=(5, 5))\n",
    "    ax.plot(x, y)\n",
    "    ax.set_xlim(-r - 1, r + 1)\n",
    "    ax.set_ylim(-r - 1, r + 1)\n",
    "    plt.xlabel(\"X-axis\")\n",
    "    plt.ylabel(\"Y-axis\")\n",
    "    plt.grid(True)\n",
    "    plt.show()\n",
    "\n",
    "\n",
    "# Create an interactive slider to adjust the radius\n",
    "radius_slider = widgets.FloatSlider(\n",
    "    value=1.0, min=1.0, max=2.0, step=0.1, description=\"Radius\"\n",
    ")\n",
    "p_slider = widgets.FloatSlider(value=2, min=1, max=10, step=1, description=\"p\")\n",
    "\n",
    "# Create an interactive plot\n",
    "interact(update_plot, r=radius_slider, p=p_slider)"
   ]
  },
  {
   "cell_type": "markdown",
   "metadata": {},
   "source": [
    "B)"
   ]
  },
  {
   "cell_type": "code",
   "execution_count": 90,
   "metadata": {},
   "outputs": [],
   "source": [
    "def random_vector(n, alpha, p):\n",
    "    random_vector = np.array([random.uniform(0, 100) for _ in range(n)])\n",
    "    norm = np.linalg.norm(random_vector, ord=p)\n",
    "    a = (random_vector/norm)*alpha\n",
    "    return a"
   ]
  },
  {
   "cell_type": "code",
   "execution_count": 91,
   "metadata": {},
   "outputs": [],
   "source": [
    "def generate_points(n, alpha, p):\n",
    "    points = []\n",
    "    for i in range(1,6):\n",
    "        v = random_vector(n, alpha, p)\n",
    "        points.append(v)\n",
    "    return(points)"
   ]
  },
  {
   "cell_type": "markdown",
   "metadata": {},
   "source": [
    "With Euclidean norm"
   ]
  },
  {
   "cell_type": "code",
   "execution_count": 92,
   "metadata": {},
   "outputs": [
    {
     "data": {
      "text/plain": [
       "[array([0.00600976, 0.01268963, 0.0161546 , 0.01765629, 0.00660875,\n",
       "        0.00350183, 0.02115165, 0.02194693, 0.02455125, 0.01193223]),\n",
       " array([0.02338008, 0.00612159, 0.00909229, 0.00244278, 0.00191814,\n",
       "        0.01634202, 0.01741976, 0.02660798, 0.02259915, 0.0058623 ]),\n",
       " array([0.02087695, 0.02022538, 0.00781007, 0.00960713, 0.00714028,\n",
       "        0.02513593, 0.01136364, 0.01262692, 0.0030017 , 0.02283447]),\n",
       " array([0.02391198, 0.00975546, 0.00720212, 0.00901524, 0.01363507,\n",
       "        0.00821777, 0.01737422, 0.00054278, 0.02146578, 0.02614419]),\n",
       " array([0.01798528, 0.02059423, 0.02121925, 0.00359893, 0.00457935,\n",
       "        0.01698106, 0.01885621, 0.00810849, 0.01134445, 0.02073333])]"
      ]
     },
     "execution_count": 92,
     "metadata": {},
     "output_type": "execute_result"
    }
   ],
   "source": [
    "generate_points(10, 0.05, 2)"
   ]
  },
  {
   "cell_type": "markdown",
   "metadata": {},
   "source": [
    "With Manhattan norm"
   ]
  },
  {
   "cell_type": "code",
   "execution_count": 93,
   "metadata": {},
   "outputs": [
    {
     "data": {
      "text/plain": [
       "[array([0.00249534, 0.00150485, 0.00250026, 0.0086564 , 0.0068436 ,\n",
       "        0.00168356, 0.00596034, 0.00875135, 0.00967025, 0.00193405]),\n",
       " array([0.00944492, 0.00102132, 0.0008754 , 0.00254286, 0.00511293,\n",
       "        0.00304404, 0.00813618, 0.00579855, 0.00639405, 0.00762976]),\n",
       " array([0.00500566, 0.00938231, 0.00563106, 0.00141148, 0.00978354,\n",
       "        0.00067437, 0.00936484, 0.00252886, 0.00024539, 0.0059725 ]),\n",
       " array([0.00656931, 0.00312984, 0.00356819, 0.00674352, 0.00594566,\n",
       "        0.0038203 , 0.00468824, 0.00598767, 0.0056007 , 0.00394657]),\n",
       " array([8.82578617e-04, 3.58207926e-03, 2.91337735e-03, 5.50974143e-03,\n",
       "        7.96719533e-03, 7.98745801e-05, 5.16302967e-03, 8.01357434e-03,\n",
       "        7.94051847e-03, 7.94803096e-03])]"
      ]
     },
     "execution_count": 93,
     "metadata": {},
     "output_type": "execute_result"
    }
   ],
   "source": [
    "generate_points(10, 0.05, 1)"
   ]
  },
  {
   "cell_type": "markdown",
   "metadata": {},
   "source": [
    "With Chebyshov norm"
   ]
  },
  {
   "cell_type": "code",
   "execution_count": 94,
   "metadata": {},
   "outputs": [
    {
     "data": {
      "text/plain": [
       "[array([0.03761458, 0.05      , 0.00334287, 0.00865625, 0.01424104,\n",
       "        0.02592608, 0.04934712, 0.00068145, 0.03704097, 0.0016348 ]),\n",
       " array([0.04653744, 0.01336397, 0.03489177, 0.05      , 0.04722218,\n",
       "        0.04918808, 0.04726157, 0.01002338, 0.03972069, 0.02237297]),\n",
       " array([0.02087494, 0.04527922, 0.00326271, 0.03990592, 0.02333887,\n",
       "        0.00243497, 0.00804855, 0.05      , 0.02661376, 0.00754613]),\n",
       " array([0.01131131, 0.00057461, 0.04990025, 0.02482363, 0.03663821,\n",
       "        0.05      , 0.01739025, 0.02508379, 0.01854493, 0.0148553 ]),\n",
       " array([0.03261484, 0.04176221, 0.01311114, 0.01765898, 0.04117599,\n",
       "        0.05      , 0.00401642, 0.01598602, 0.00741824, 0.04933487])]"
      ]
     },
     "execution_count": 94,
     "metadata": {},
     "output_type": "execute_result"
    }
   ],
   "source": [
    "generate_points(10, 0.05, np.inf)"
   ]
  }
 ],
 "metadata": {
  "kernelspec": {
   "display_name": "Algebra_Sandbox-3T0psl7Q",
   "language": "python",
   "name": "python3"
  },
  "language_info": {
   "codemirror_mode": {
    "name": "ipython",
    "version": 3
   },
   "file_extension": ".py",
   "mimetype": "text/x-python",
   "name": "python",
   "nbconvert_exporter": "python",
   "pygments_lexer": "ipython3",
   "version": "3.11.5"
  },
  "orig_nbformat": 4
 },
 "nbformat": 4,
 "nbformat_minor": 2
}
