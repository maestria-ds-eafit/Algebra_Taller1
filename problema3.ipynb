{
 "cells": [
  {
   "cell_type": "markdown",
   "metadata": {},
   "source": [
    "# Problema 3"
   ]
  },
  {
   "cell_type": "code",
   "execution_count": 1,
   "metadata": {},
   "outputs": [],
   "source": [
    "import matplotlib.pyplot as plt\n",
    "import numpy as np\n",
    "import random\n",
    "from ipywidgets import interact, widgets"
   ]
  },
  {
   "cell_type": "markdown",
   "metadata": {},
   "source": [
    "A)"
   ]
  },
  {
   "cell_type": "code",
   "execution_count": 2,
   "metadata": {},
   "outputs": [
    {
     "data": {
      "application/vnd.jupyter.widget-view+json": {
       "model_id": "cbcb1977436c495d8f9310a70fb88a65",
       "version_major": 2,
       "version_minor": 0
      },
      "text/plain": [
       "interactive(children=(FloatSlider(value=1.0, description='Radius', max=2.0, min=1.0), FloatSlider(value=2.0, d…"
      ]
     },
     "metadata": {},
     "output_type": "display_data"
    },
    {
     "data": {
      "text/plain": [
       "<function __main__.update_plot(r, p)>"
      ]
     },
     "execution_count": 2,
     "metadata": {},
     "output_type": "execute_result"
    }
   ],
   "source": [
    "def update_plot(r, p):\n",
    "    theta = np.linspace(0, 2 * np.pi, 1000)\n",
    "    r_factor = (r / ((np.abs(np.cos(theta)) ** p + np.abs(np.sin(theta)) ** p) ** (1 / p)))\n",
    "    x = r_factor * np.cos(theta)\n",
    "    y = r_factor * np.sin(theta)\n",
    "    plt.figure(figsize=(5, 5))\n",
    "    plt.plot(x, y)\n",
    "    plt.xlim(-r - 1, r + 1)\n",
    "    plt.ylim(-r - 1, r + 1)\n",
    "    plt.xlabel(\"X-axis\")\n",
    "    plt.ylabel(\"Y-axis\")\n",
    "    plt.grid(True)\n",
    "    plt.show()\n",
    "\n",
    "# Create an interactive slider to adjust the radius\n",
    "radius_slider = widgets.FloatSlider(\n",
    "    value=1.0, min=1.0, max=2.0, step=0.1, description=\"Radius\"\n",
    ")\n",
    "p_slider = widgets.FloatSlider(value=2, min=1, max=10, step=1, description=\"p\")\n",
    "\n",
    "# Create an interactive plot\n",
    "interact(update_plot, r=radius_slider, p=p_slider)"
   ]
  },
  {
   "cell_type": "markdown",
   "metadata": {},
   "source": [
    "B)"
   ]
  },
  {
   "cell_type": "code",
   "execution_count": 3,
   "metadata": {},
   "outputs": [],
   "source": [
    "def random_vector(n, alpha, p):\n",
    "    random_vector = np.array([random.uniform(0, 100) for _ in range(n)])\n",
    "    norm = np.linalg.norm(random_vector, ord=p)\n",
    "    a = (random_vector/norm)*alpha\n",
    "    return a"
   ]
  },
  {
   "cell_type": "code",
   "execution_count": 4,
   "metadata": {},
   "outputs": [],
   "source": [
    "def generate_points(n, alpha, p):\n",
    "    points = []\n",
    "    for i in range(1,6):\n",
    "        v = random_vector(n, alpha, p)\n",
    "        points.append(v)\n",
    "    return(points)"
   ]
  },
  {
   "cell_type": "markdown",
   "metadata": {},
   "source": [
    "With Euclidean norm"
   ]
  },
  {
   "cell_type": "code",
   "execution_count": 5,
   "metadata": {},
   "outputs": [
    {
     "data": {
      "text/plain": [
       "[array([0.00050546, 0.01164468, 0.01228455, 0.01030244, 0.00560391,\n",
       "        0.00755247, 0.01472435, 0.01959446, 0.01730457, 0.0334433 ]),\n",
       " array([0.00677569, 0.0032619 , 0.01981364, 0.02716608, 0.02447659,\n",
       "        0.02129799, 0.00145563, 0.00266366, 0.00660481, 0.01439891]),\n",
       " array([0.00824247, 0.01561346, 0.01488794, 0.0035286 , 0.00064444,\n",
       "        0.01275397, 0.02147236, 0.01722588, 0.03213922, 0.00061497]),\n",
       " array([0.00245056, 0.01626575, 0.0024395 , 0.03082745, 0.00771551,\n",
       "        0.00754102, 0.02081386, 0.01982088, 0.01135447, 0.01420326]),\n",
       " array([0.02331281, 0.00530601, 0.01026347, 0.02506603, 0.00628591,\n",
       "        0.02650941, 0.01641673, 0.00232532, 0.00563452, 0.01207431])]"
      ]
     },
     "execution_count": 5,
     "metadata": {},
     "output_type": "execute_result"
    }
   ],
   "source": [
    "generate_points(10, 0.05, 2)"
   ]
  },
  {
   "cell_type": "markdown",
   "metadata": {},
   "source": [
    "With Manhattan norm"
   ]
  },
  {
   "cell_type": "code",
   "execution_count": 6,
   "metadata": {},
   "outputs": [
    {
     "data": {
      "text/plain": [
       "[array([0.00144846, 0.01110165, 0.00354457, 0.0064104 , 0.00393655,\n",
       "        0.00062046, 0.00599087, 0.0087231 , 0.00036354, 0.0078604 ]),\n",
       " array([0.00586392, 0.00618353, 0.00847953, 0.00706495, 0.00063877,\n",
       "        0.0087721 , 0.00038308, 0.00951079, 0.00223712, 0.00086621]),\n",
       " array([8.41644142e-03, 5.64272980e-03, 2.17568657e-05, 4.25228187e-03,\n",
       "        5.21130334e-03, 6.69949182e-03, 8.45302790e-03, 5.37408817e-03,\n",
       "        5.39264631e-03, 5.36232495e-04]),\n",
       " array([0.00852733, 0.00153012, 0.00241582, 0.00810401, 0.0098023 ,\n",
       "        0.00949988, 0.00301488, 0.00014515, 0.00602687, 0.00093364]),\n",
       " array([0.00610841, 0.00791604, 0.00500908, 0.00376934, 0.00092621,\n",
       "        0.0044766 , 0.00527673, 0.00352233, 0.00726993, 0.00572532])]"
      ]
     },
     "execution_count": 6,
     "metadata": {},
     "output_type": "execute_result"
    }
   ],
   "source": [
    "generate_points(10, 0.05, 1)"
   ]
  },
  {
   "cell_type": "markdown",
   "metadata": {},
   "source": [
    "With Chebyshov norm"
   ]
  },
  {
   "cell_type": "code",
   "execution_count": 7,
   "metadata": {},
   "outputs": [
    {
     "data": {
      "text/plain": [
       "[array([0.04161164, 0.04825913, 0.01613826, 0.04849815, 0.01704168,\n",
       "        0.02478138, 0.01849764, 0.024671  , 0.01898607, 0.05      ]),\n",
       " array([0.01192966, 0.02149513, 0.03709315, 0.0275532 , 0.0435599 ,\n",
       "        0.02308828, 0.03907687, 0.05      , 0.00737971, 0.00152166]),\n",
       " array([0.00814052, 0.00854767, 0.01483386, 0.02147652, 0.02587402,\n",
       "        0.03944839, 0.02385997, 0.0375239 , 0.00287384, 0.05      ]),\n",
       " array([0.03889461, 0.00616458, 0.04577001, 0.01383555, 0.00267807,\n",
       "        0.05      , 0.03999952, 0.04743699, 0.01002761, 0.01459901]),\n",
       " array([0.02939901, 0.01965465, 0.03043259, 0.03924097, 0.05      ,\n",
       "        0.00056044, 0.03867976, 0.01276179, 0.0300527 , 0.02651389])]"
      ]
     },
     "execution_count": 7,
     "metadata": {},
     "output_type": "execute_result"
    }
   ],
   "source": [
    "generate_points(10, 0.05, np.inf)"
   ]
  }
 ],
 "metadata": {
  "kernelspec": {
   "display_name": "Algebra_Sandbox-3T0psl7Q",
   "language": "python",
   "name": "python3"
  },
  "language_info": {
   "codemirror_mode": {
    "name": "ipython",
    "version": 3
   },
   "file_extension": ".py",
   "mimetype": "text/x-python",
   "name": "python",
   "nbconvert_exporter": "python",
   "pygments_lexer": "ipython3",
   "version": "3.11.5"
  },
  "orig_nbformat": 4
 },
 "nbformat": 4,
 "nbformat_minor": 2
}
