{
 "cells": [
  {
   "cell_type": "markdown",
   "metadata": {},
   "source": [
    "# Problema 3"
   ]
  },
  {
   "cell_type": "code",
   "execution_count": 1,
   "metadata": {},
   "outputs": [],
   "source": [
    "import matplotlib.pyplot as plt\n",
    "import numpy as np\n",
    "import random\n",
    "from ipywidgets import interact, widgets"
   ]
  },
  {
   "cell_type": "markdown",
   "metadata": {},
   "source": [
    "A)"
   ]
  },
  {
   "cell_type": "code",
   "execution_count": 2,
   "metadata": {},
   "outputs": [
    {
     "data": {
      "application/vnd.jupyter.widget-view+json": {
       "model_id": "e167c7b081be47c18636dfc6bd678d9e",
       "version_major": 2,
       "version_minor": 0
      },
      "text/plain": [
       "interactive(children=(FloatSlider(value=1.0, description='Radius', max=2.0, min=1.0), Dropdown(description='p'…"
      ]
     },
     "metadata": {},
     "output_type": "display_data"
    },
    {
     "data": {
      "text/plain": [
       "<function __main__.update_plot(r, p)>"
      ]
     },
     "execution_count": 2,
     "metadata": {},
     "output_type": "execute_result"
    }
   ],
   "source": [
    "def update_plot(r, p):\n",
    "    theta = np.linspace(0, 2 * np.pi, 1000)\n",
    "    r_factor = (r / ((np.abs(np.cos(theta)) ** p + np.abs(np.sin(theta)) ** p) ** (1 / p)))\n",
    "    x = r_factor * np.cos(theta)\n",
    "    y = r_factor * np.sin(theta)\n",
    "    plt.figure(figsize=(5, 5))\n",
    "    plt.plot(x, y)\n",
    "    plt.xlim(-r - 1, r + 1)\n",
    "    plt.ylim(-r - 1, r + 1)\n",
    "    plt.xlabel(\"X-axis\")\n",
    "    plt.ylabel(\"Y-axis\")\n",
    "    plt.grid(True)\n",
    "    plt.show()\n",
    "\n",
    "# Create an interactive slider to adjust the radius\n",
    "radius_slider = widgets.FloatSlider(\n",
    "    value=1.0, min=1.0, max=2.0, step=0.1, description=\"Radius\"\n",
    ")\n",
    "#p_slider = widgets.FloatSlider(value=2, min=1, max=10, step=1, description=\"p\")\n",
    "p_slider = widgets.Dropdown(options=[1, 2, 3, 1000],value=2, description=\"p\", disabled=False,)\n",
    "\n",
    "# Create an interactive plot\n",
    "interact(update_plot, r=radius_slider, p=p_slider)"
   ]
  },
  {
   "cell_type": "markdown",
   "metadata": {},
   "source": [
    "B)"
   ]
  },
  {
   "cell_type": "code",
   "execution_count": 3,
   "metadata": {},
   "outputs": [],
   "source": [
    "def random_vector(n, alpha, p):\n",
    "    random_vector = np.array([random.uniform(0, 100) for _ in range(n)])\n",
    "    norm = np.linalg.norm(random_vector, ord=p)\n",
    "    a = (random_vector/norm)*alpha\n",
    "    return a"
   ]
  },
  {
   "cell_type": "code",
   "execution_count": 4,
   "metadata": {},
   "outputs": [],
   "source": [
    "def generate_points(n, alpha, p):\n",
    "    points = []\n",
    "    for i in range(1,6):\n",
    "        v = random_vector(n, alpha, p)\n",
    "        points.append(v)\n",
    "    return(points)"
   ]
  },
  {
   "cell_type": "markdown",
   "metadata": {},
   "source": [
    "With Euclidean norm"
   ]
  },
  {
   "cell_type": "code",
   "execution_count": 5,
   "metadata": {},
   "outputs": [
    {
     "data": {
      "text/plain": [
       "[array([0.00556667, 0.01617728, 0.00320746, 0.01512828, 0.01097007,\n",
       "        0.02244368, 0.02380068, 0.01723097, 0.01811389, 0.01235321]),\n",
       " array([0.0131529 , 0.0013176 , 0.01102917, 0.02293984, 0.00350525,\n",
       "        0.02521261, 0.00772621, 0.02686985, 0.00213941, 0.01559372]),\n",
       " array([0.01780501, 0.0195426 , 0.03303007, 0.00547892, 0.01138732,\n",
       "        0.0173018 , 0.00151651, 0.01143637, 0.00519276, 0.00953864]),\n",
       " array([0.02226166, 0.00288776, 0.02363905, 0.00441149, 0.00871745,\n",
       "        0.01264987, 0.01799499, 0.02685381, 0.00689522, 0.00945037]),\n",
       " array([0.01385706, 0.01925011, 0.00567275, 0.02175836, 0.01143099,\n",
       "        0.01006787, 0.01351634, 0.02022821, 0.01736597, 0.01750228])]"
      ]
     },
     "execution_count": 5,
     "metadata": {},
     "output_type": "execute_result"
    }
   ],
   "source": [
    "generate_points(10, 0.05, 2)"
   ]
  },
  {
   "cell_type": "markdown",
   "metadata": {},
   "source": [
    "With Manhattan norm"
   ]
  },
  {
   "cell_type": "code",
   "execution_count": 6,
   "metadata": {},
   "outputs": [
    {
     "data": {
      "text/plain": [
       "[array([0.005757  , 0.00350608, 0.00171692, 0.00867875, 0.00912632,\n",
       "        0.0058075 , 0.00702942, 0.00257696, 0.00356665, 0.0022344 ]),\n",
       " array([0.00114206, 0.00860528, 0.000676  , 0.00878999, 0.00661837,\n",
       "        0.00366649, 0.00490967, 0.00782855, 0.00058578, 0.00717781]),\n",
       " array([0.00186527, 0.0046975 , 0.00028332, 0.01161646, 0.00999912,\n",
       "        0.0113089 , 0.00224542, 0.00352239, 0.00118732, 0.0032743 ]),\n",
       " array([0.00239497, 0.00622289, 0.00073821, 0.0016571 , 0.00772942,\n",
       "        0.00863006, 0.00854669, 0.00167494, 0.00364366, 0.00876207]),\n",
       " array([0.00330832, 0.00107435, 0.00501735, 0.00145691, 0.00422057,\n",
       "        0.00529437, 0.00393565, 0.01001189, 0.00647179, 0.00920881])]"
      ]
     },
     "execution_count": 6,
     "metadata": {},
     "output_type": "execute_result"
    }
   ],
   "source": [
    "generate_points(10, 0.05, 1)"
   ]
  },
  {
   "cell_type": "markdown",
   "metadata": {},
   "source": [
    "With Chebyshov norm"
   ]
  },
  {
   "cell_type": "code",
   "execution_count": 7,
   "metadata": {},
   "outputs": [
    {
     "data": {
      "text/plain": [
       "[array([0.0422592 , 0.00085228, 0.05      , 0.01765746, 0.00577371,\n",
       "        0.04340474, 0.0326811 , 0.00192582, 0.00962651, 0.01034742]),\n",
       " array([0.0475722 , 0.04699069, 0.05      , 0.02706239, 0.04460314,\n",
       "        0.0414822 , 0.02282961, 0.02725785, 0.00217677, 0.02749091]),\n",
       " array([0.03484336, 0.05      , 0.01356413, 0.04150937, 0.01026716,\n",
       "        0.01945639, 0.0333992 , 0.00412356, 0.04745913, 0.0308891 ]),\n",
       " array([0.01777049, 0.00606665, 0.0249749 , 0.00644653, 0.01797617,\n",
       "        0.03796044, 0.01270662, 0.04076718, 0.00072791, 0.05      ]),\n",
       " array([0.01658327, 0.04555864, 0.01260252, 0.02530182, 0.0121635 ,\n",
       "        0.04269598, 0.0460566 , 0.0233487 , 0.01539877, 0.05      ])]"
      ]
     },
     "execution_count": 7,
     "metadata": {},
     "output_type": "execute_result"
    }
   ],
   "source": [
    "generate_points(10, 0.05, np.inf)"
   ]
  }
 ],
 "metadata": {
  "kernelspec": {
   "display_name": "Algebra_Sandbox-3T0psl7Q",
   "language": "python",
   "name": "python3"
  },
  "language_info": {
   "codemirror_mode": {
    "name": "ipython",
    "version": 3
   },
   "file_extension": ".py",
   "mimetype": "text/x-python",
   "name": "python",
   "nbconvert_exporter": "python",
   "pygments_lexer": "ipython3",
   "version": "3.11.5"
  },
  "orig_nbformat": 4
 },
 "nbformat": 4,
 "nbformat_minor": 2
}
