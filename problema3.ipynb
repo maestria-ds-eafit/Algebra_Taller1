{
 "cells": [
  {
   "cell_type": "code",
   "execution_count": 1,
   "metadata": {},
   "outputs": [],
   "source": [
    "import matplotlib.pyplot as plt\n",
    "import numpy as np\n",
    "import random\n",
    "from ipywidgets import interact, widgets"
   ]
  },
  {
   "cell_type": "markdown",
   "metadata": {},
   "source": [
    "A)"
   ]
  },
  {
   "cell_type": "code",
   "execution_count": 2,
   "metadata": {},
   "outputs": [
    {
     "data": {
      "application/vnd.jupyter.widget-view+json": {
       "model_id": "e8a1d9c5b53942019f4a95049ad329bf",
       "version_major": 2,
       "version_minor": 0
      },
      "text/plain": [
       "interactive(children=(FloatSlider(value=1.0, description='Radius', max=2.0, min=1.0), FloatSlider(value=2.0, d…"
      ]
     },
     "metadata": {},
     "output_type": "display_data"
    },
    {
     "data": {
      "text/plain": [
       "<function __main__.update_plot(r, p)>"
      ]
     },
     "execution_count": 2,
     "metadata": {},
     "output_type": "execute_result"
    }
   ],
   "source": [
    "def update_plot(r, p):\n",
    "    theta = np.linspace(0, 2 * np.pi, 1000)\n",
    "    r_factor = (r / ((np.abs(np.cos(theta)) ** p + np.abs(np.sin(theta)) ** p) ** (1 / p)))\n",
    "    x = r_factor * np.cos(theta)\n",
    "    y = r_factor * np.sin(theta)\n",
    "    plt.figure(figsize=(5, 5))\n",
    "    plt.plot(x, y)\n",
    "    plt.xlim(-r - 1, r + 1)\n",
    "    plt.ylim(-r - 1, r + 1)\n",
    "    plt.xlabel(\"X-axis\")\n",
    "    plt.ylabel(\"Y-axis\")\n",
    "    plt.grid(True)\n",
    "    plt.show()\n",
    "\n",
    "# Create an interactive slider to adjust the radius\n",
    "radius_slider = widgets.FloatSlider(\n",
    "    value=1.0, min=1.0, max=2.0, step=0.1, description=\"Radius\"\n",
    ")\n",
    "p_slider = widgets.FloatSlider(value=2, min=1, max=10, step=1, description=\"p\")\n",
    "\n",
    "# Create an interactive plot\n",
    "interact(update_plot, r=radius_slider, p=p_slider)"
   ]
  },
  {
   "cell_type": "markdown",
   "metadata": {},
   "source": [
    "B)"
   ]
  },
  {
   "cell_type": "code",
   "execution_count": 3,
   "metadata": {},
   "outputs": [],
   "source": [
    "def random_vector(n, alpha, p):\n",
    "    random_vector = np.array([random.uniform(0, 100) for _ in range(n)])\n",
    "    norm = np.linalg.norm(random_vector, ord=p)\n",
    "    a = (random_vector/norm)*alpha\n",
    "    return a"
   ]
  },
  {
   "cell_type": "code",
   "execution_count": 4,
   "metadata": {},
   "outputs": [],
   "source": [
    "def generate_points(n, alpha, p):\n",
    "    points = []\n",
    "    for i in range(1,6):\n",
    "        v = random_vector(n, alpha, p)\n",
    "        points.append(v)\n",
    "    return(points)"
   ]
  },
  {
   "cell_type": "markdown",
   "metadata": {},
   "source": [
    "With Euclidean norm"
   ]
  },
  {
   "cell_type": "code",
   "execution_count": 5,
   "metadata": {},
   "outputs": [
    {
     "data": {
      "text/plain": [
       "[array([0.02094205, 0.02121665, 0.01037711, 0.01952444, 0.0168982 ,\n",
       "        0.01319174, 0.00342278, 0.01450652, 0.01329648, 0.01624421]),\n",
       " array([0.0153355 , 0.02043319, 0.02509885, 0.01350437, 0.01671609,\n",
       "        0.00191299, 0.00537834, 0.01424098, 0.00550668, 0.02213241]),\n",
       " array([0.01480105, 0.02197774, 0.01713748, 0.01105622, 0.02077787,\n",
       "        0.004354  , 0.00798115, 0.01058581, 0.02223091, 0.01616557]),\n",
       " array([0.01800516, 0.01220984, 0.01937379, 0.02510363, 0.00906522,\n",
       "        0.01458846, 0.01993633, 0.01055455, 0.00361794, 0.01429167]),\n",
       " array([6.40384712e-03, 1.26400554e-02, 1.63695293e-02, 1.30364729e-02,\n",
       "        1.99173918e-02, 2.02153413e-02, 9.48296891e-03, 2.15976809e-02,\n",
       "        1.00081712e-05, 2.23508274e-02])]"
      ]
     },
     "execution_count": 5,
     "metadata": {},
     "output_type": "execute_result"
    }
   ],
   "source": [
    "generate_points(10, 0.05, 2)"
   ]
  },
  {
   "cell_type": "markdown",
   "metadata": {},
   "source": [
    "With Manhattan norm"
   ]
  },
  {
   "cell_type": "code",
   "execution_count": 6,
   "metadata": {},
   "outputs": [
    {
     "data": {
      "text/plain": [
       "[array([0.00849499, 0.00744408, 0.00309122, 0.00065954, 0.00445666,\n",
       "        0.00342479, 0.00187854, 0.00405233, 0.0089336 , 0.00756425]),\n",
       " array([0.00808858, 0.00182602, 0.00513826, 0.00366997, 0.00134519,\n",
       "        0.00728802, 0.00179776, 0.00567672, 0.00676548, 0.00840401]),\n",
       " array([0.00604741, 0.00750565, 0.00402147, 0.0017459 , 0.00197826,\n",
       "        0.00618196, 0.00638871, 0.00750791, 0.00253234, 0.00609038]),\n",
       " array([0.00145692, 0.00308943, 0.00845122, 0.00520583, 0.00354815,\n",
       "        0.0021468 , 0.00777608, 0.00686823, 0.00361981, 0.00783753]),\n",
       " array([0.00166062, 0.00263473, 0.00063358, 0.00563792, 0.00747524,\n",
       "        0.00907267, 0.00439821, 0.0094176 , 0.00209341, 0.00697601])]"
      ]
     },
     "execution_count": 6,
     "metadata": {},
     "output_type": "execute_result"
    }
   ],
   "source": [
    "generate_points(10, 0.05, 1)"
   ]
  },
  {
   "cell_type": "markdown",
   "metadata": {},
   "source": [
    "With Chebyshov norm"
   ]
  },
  {
   "cell_type": "code",
   "execution_count": 7,
   "metadata": {},
   "outputs": [
    {
     "data": {
      "text/plain": [
       "[array([0.02253742, 0.00176353, 0.0407067 , 0.01497159, 0.04893852,\n",
       "        0.03163324, 0.04129382, 0.03826112, 0.01933499, 0.05      ]),\n",
       " array([0.00538291, 0.00836797, 0.00715137, 0.02804036, 0.03194719,\n",
       "        0.00118175, 0.05      , 0.04477507, 0.0469641 , 0.00136645]),\n",
       " array([0.01680212, 0.01703203, 0.02194461, 0.05      , 0.00505368,\n",
       "        0.01764343, 0.02576613, 0.04927437, 0.01519826, 0.01813764]),\n",
       " array([0.05      , 0.0361408 , 0.00073424, 0.02543466, 0.04743258,\n",
       "        0.0096139 , 0.02352431, 0.04397708, 0.04822477, 0.01432226]),\n",
       " array([0.03886135, 0.05      , 0.04237132, 0.03087036, 0.04053312,\n",
       "        0.00761807, 0.03832385, 0.01353714, 0.03313496, 0.04953836])]"
      ]
     },
     "execution_count": 7,
     "metadata": {},
     "output_type": "execute_result"
    }
   ],
   "source": [
    "generate_points(10, 0.05, np.inf)"
   ]
  }
 ],
 "metadata": {
  "kernelspec": {
   "display_name": "Algebra_Sandbox-3T0psl7Q",
   "language": "python",
   "name": "python3"
  },
  "language_info": {
   "codemirror_mode": {
    "name": "ipython",
    "version": 3
   },
   "file_extension": ".py",
   "mimetype": "text/x-python",
   "name": "python",
   "nbconvert_exporter": "python",
   "pygments_lexer": "ipython3",
   "version": "3.11.5"
  },
  "orig_nbformat": 4
 },
 "nbformat": 4,
 "nbformat_minor": 2
}
