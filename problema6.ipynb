{
 "cells": [
  {
   "cell_type": "code",
   "execution_count": 41,
   "metadata": {},
   "outputs": [],
   "source": [
    "import numpy as np\n",
    "import math"
   ]
  },
  {
   "cell_type": "code",
   "execution_count": 42,
   "metadata": {},
   "outputs": [],
   "source": [
    "def generate_hilbert_matrix(n):\n",
    "    return np.matrix([[1/(i+j+1) for j in range(n)] for i in range(n)])"
   ]
  },
  {
   "cell_type": "code",
   "execution_count": 43,
   "metadata": {},
   "outputs": [],
   "source": [
    "def minkowski(vector, p = 1):\n",
    "    if p == math.inf:\n",
    "        return np.max(np.abs(vector))\n",
    "    return np.sum(np.abs(vector)**p)**(1/p)"
   ]
  },
  {
   "cell_type": "code",
   "execution_count": 44,
   "metadata": {},
   "outputs": [],
   "source": [
    "def approximate_norm(A, p = 1):\n",
    "    rows, cols = A.shape\n",
    "    results = []\n",
    "    canonical_vectors = []\n",
    "    for i in range(cols):\n",
    "        canonical_vector = np.zeros(cols)\n",
    "        canonical_vector[i] = 1\n",
    "        canonical_vector = canonical_vector.reshape(-1, 1)\n",
    "        canonical_vectors.append(canonical_vector)\n",
    "        result = np.matmul(A, canonical_vector)\n",
    "        result = np.array(result)\n",
    "        results.append(minkowski(result, p))\n",
    "    print(\"Distances when multiplying A by each canonical vectors:\")\n",
    "    print(results)\n",
    "    print(\"Vector with unit norm that satisfies ||Ax|| to be max:\")\n",
    "    print(canonical_vectors[np.argmax(results)])  \n",
    "\n"
   ]
  },
  {
   "cell_type": "code",
   "execution_count": 45,
   "metadata": {},
   "outputs": [],
   "source": [
    "A = generate_hilbert_matrix(10)\n",
    "A = np.matrix([[2, 6], [7, 8]])"
   ]
  },
  {
   "cell_type": "code",
   "execution_count": 46,
   "metadata": {},
   "outputs": [
    {
     "data": {
      "text/plain": [
       "matrix([[2, 6],\n",
       "        [7, 8]])"
      ]
     },
     "execution_count": 46,
     "metadata": {},
     "output_type": "execute_result"
    }
   ],
   "source": [
    "A"
   ]
  },
  {
   "cell_type": "code",
   "execution_count": 47,
   "metadata": {},
   "outputs": [
    {
     "name": "stdout",
     "output_type": "stream",
     "text": [
      "Distances when multiplying A by each canonical vectors:\n",
      "[7.0, 8.0]\n",
      "Vector with unit norm that satisfies ||Ax|| to be max:\n",
      "[[0.]\n",
      " [1.]]\n"
     ]
    }
   ],
   "source": [
    "approximate_norm(A, p = math.inf)"
   ]
  },
  {
   "cell_type": "code",
   "execution_count": 48,
   "metadata": {},
   "outputs": [],
   "source": [
    "def generate_aleatory_matrix(low, high, rows, columns):\n",
    "    return np.random.randint(low, high + 1, size=(rows, columns))\n"
   ]
  },
  {
   "cell_type": "code",
   "execution_count": 49,
   "metadata": {},
   "outputs": [
    {
     "data": {
      "text/plain": [
       "array([[ -2,   1,  -5,  -8,   1,   0,   7],\n",
       "       [  6,  -8,   5,   3,  -9,   3,   1],\n",
       "       [  5,  -5,  -1,   2, -10,  -1,   8],\n",
       "       [  4,  -1,  -5,   3,  -2,  -2,  -6],\n",
       "       [  7,  -7,  -9,  -2,  -3,   3,  -4]])"
      ]
     },
     "execution_count": 49,
     "metadata": {},
     "output_type": "execute_result"
    }
   ],
   "source": [
    "B = generate_aleatory_matrix(-10, 10, 5, 7)\n",
    "B"
   ]
  },
  {
   "cell_type": "code",
   "execution_count": 59,
   "metadata": {},
   "outputs": [],
   "source": [
    "B = np.array([[2, -3], [5, -1]])"
   ]
  },
  {
   "cell_type": "code",
   "execution_count": 2,
   "metadata": {},
   "outputs": [],
   "source": [
    "def max_row(B, p):\n",
    "    canonical_vectors = []\n",
    "    absolute_values = np.abs(B)\n",
    "    max_abs_row_index = np.argmax(np.sum(np.abs(absolute_values), axis=1))\n",
    "    max_abs_row = B[max_abs_row_index, :]\n",
    "    signs = np.sign(max_abs_row)\n",
    "    row, cols = B.shape\n",
    "    if p == np.inf:\n",
    "        return print(f\"the value for p = {p} norm is: {max(np.dot(B, signs))}\")        \n",
    "    else: \n",
    "        for i in range(0,10):\n",
    "            for i in range(cols):\n",
    "                canonical_vector = np.zeros(cols)\n",
    "                canonical_vector[i] = 1\n",
    "                canonical_vector = canonical_vector.reshape(-1, 1)\n",
    "                canonical_vectors.append(canonical_vector)\n",
    "                #hacer promedio e1 y e2\n",
    "            return print(f\"the value for p = {p} norm is: {np.sum(np.abs(B)**p)**(1/p)}\")\n",
    "   "
   ]
  },
  {
   "cell_type": "code",
   "execution_count": 73,
   "metadata": {},
   "outputs": [
    {
     "name": "stdout",
     "output_type": "stream",
     "text": [
      "the value for inf norm is: 6\n"
     ]
    }
   ],
   "source": [
    "max_row(B, math.inf)"
   ]
  },
  {
   "cell_type": "code",
   "execution_count": 61,
   "metadata": {},
   "outputs": [
    {
     "data": {
      "text/plain": [
       "11.0"
      ]
     },
     "execution_count": 61,
     "metadata": {},
     "output_type": "execute_result"
    }
   ],
   "source": [
    "max_row(B, 1)"
   ]
  },
  {
   "cell_type": "code",
   "execution_count": 54,
   "metadata": {},
   "outputs": [
    {
     "name": "stdout",
     "output_type": "stream",
     "text": [
      "L2 norm of the matrix: 6.244997998398398\n"
     ]
    }
   ],
   "source": [
    "l2_norm = np.linalg.norm(B)\n",
    "\n",
    "print(\"L2 norm of the matrix:\", l2_norm)"
   ]
  },
  {
   "cell_type": "code",
   "execution_count": 66,
   "metadata": {},
   "outputs": [
    {
     "name": "stdout",
     "output_type": "stream",
     "text": [
      "the value for inf norm is: 11\n"
     ]
    }
   ],
   "source": [
    "max_row(B, 2)"
   ]
  },
  {
   "cell_type": "code",
   "execution_count": null,
   "metadata": {},
   "outputs": [],
   "source": [
    "#larger singular value"
   ]
  }
 ],
 "metadata": {
  "kernelspec": {
   "display_name": "Algebra_Taller1_David_Camilo-2T53t9hb",
   "language": "python",
   "name": "python3"
  },
  "language_info": {
   "codemirror_mode": {
    "name": "ipython",
    "version": 3
   },
   "file_extension": ".py",
   "mimetype": "text/x-python",
   "name": "python",
   "nbconvert_exporter": "python",
   "pygments_lexer": "ipython3",
   "version": "3.11.5"
  },
  "orig_nbformat": 4
 },
 "nbformat": 4,
 "nbformat_minor": 2
}
