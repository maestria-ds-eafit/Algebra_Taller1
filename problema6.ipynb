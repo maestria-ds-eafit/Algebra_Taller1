{
 "cells": [
  {
   "cell_type": "code",
   "execution_count": 1,
   "metadata": {},
   "outputs": [],
   "source": [
    "import numpy as np\n",
    "import math"
   ]
  },
  {
   "cell_type": "code",
   "execution_count": 2,
   "metadata": {},
   "outputs": [],
   "source": [
    "def generate_hilbert_matrix(n):\n",
    "    return np.matrix([[1/(i+j+1) for j in range(n)] for i in range(n)])"
   ]
  },
  {
   "cell_type": "code",
   "execution_count": 3,
   "metadata": {},
   "outputs": [],
   "source": [
    "def minkowski(vector, p = 1):\n",
    "    if p == math.inf:\n",
    "        return np.max(np.abs(vector))\n",
    "    return np.sum(np.abs(vector)**p)**(1/p)"
   ]
  },
  {
   "cell_type": "code",
   "execution_count": 4,
   "metadata": {},
   "outputs": [],
   "source": [
    "def approximate_norm(A, p = 1):\n",
    "    rows, cols = A.shape\n",
    "    results = []\n",
    "    canonical_vectors = []\n",
    "    for i in range(cols):\n",
    "        canonical_vector = np.zeros(cols)\n",
    "        canonical_vector[i] = 1\n",
    "        canonical_vector = canonical_vector.reshape(-1, 1)\n",
    "        canonical_vectors.append(canonical_vector)\n",
    "        result = np.matmul(A, canonical_vector)\n",
    "        result = np.array(result)\n",
    "        results.append(minkowski(result, p))\n",
    "    print(\"Distances when multiplying A by each canonical vectors:\")\n",
    "    print(results)\n",
    "    print(\"Vector with unit norm that satisfies ||Ax|| to be max:\")\n",
    "    print(canonical_vectors[np.argmax(results)])  \n",
    "\n"
   ]
  },
  {
   "cell_type": "code",
   "execution_count": 10,
   "metadata": {},
   "outputs": [],
   "source": [
    "A = generate_hilbert_matrix(10)\n",
    "A = np.matrix([[2, 6], [7, 8]])"
   ]
  },
  {
   "cell_type": "code",
   "execution_count": 11,
   "metadata": {},
   "outputs": [
    {
     "data": {
      "text/plain": [
       "matrix([[2, 6],\n",
       "        [7, 8]])"
      ]
     },
     "execution_count": 11,
     "metadata": {},
     "output_type": "execute_result"
    }
   ],
   "source": [
    "A"
   ]
  },
  {
   "cell_type": "code",
   "execution_count": 6,
   "metadata": {},
   "outputs": [
    {
     "name": "stdout",
     "output_type": "stream",
     "text": [
      "Distances when multiplying A by each canonical vectors:\n",
      "[7.0, 8.0]\n",
      "Vector with unit norm that satisfies ||Ax|| to be max:\n",
      "[[0.]\n",
      " [1.]]\n"
     ]
    }
   ],
   "source": [
    "approximate_norm(A, p = math.inf)"
   ]
  },
  {
   "cell_type": "code",
   "execution_count": null,
   "metadata": {},
   "outputs": [],
   "source": [
    "A = np.matrix([[2, 6], [7, 8]])\n"
   ]
  }
 ],
 "metadata": {
  "kernelspec": {
   "display_name": "Algebra_Taller1_David_Camilo-2T53t9hb",
   "language": "python",
   "name": "python3"
  },
  "language_info": {
   "codemirror_mode": {
    "name": "ipython",
    "version": 3
   },
   "file_extension": ".py",
   "mimetype": "text/x-python",
   "name": "python",
   "nbconvert_exporter": "python",
   "pygments_lexer": "ipython3",
   "version": "3.11.5"
  },
  "orig_nbformat": 4
 },
 "nbformat": 4,
 "nbformat_minor": 2
}
