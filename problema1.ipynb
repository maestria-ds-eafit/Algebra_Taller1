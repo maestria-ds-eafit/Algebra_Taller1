{
 "cells": [
  {
   "cell_type": "markdown",
   "metadata": {},
   "source": [
    "# Problema 1\n",
    "\n",
    "Identificar el genero a partir del retrato de una persona.\n"
   ]
  },
  {
   "cell_type": "markdown",
   "metadata": {},
   "source": [
    "In this notebook, we are going to use:\n",
    "1. Logistic Regression and\n",
    "2. KNN\n",
    "with the help of sklearn to predict the gender of a persona given a photo."
   ]
  },
  {
   "cell_type": "code",
   "execution_count": 27,
   "metadata": {},
   "outputs": [],
   "source": [
    "import threading\n",
    "from PIL import Image\n",
    "import numpy as np\n",
    "import os\n",
    "from sklearn.model_selection import train_test_split\n",
    "from sklearn.metrics import accuracy_score, classification_report\n",
    "from sklearn.linear_model import LogisticRegression\n",
    "from sklearn.preprocessing import StandardScaler\n",
    "from sklearn.neighbors import KNeighborsClassifier"
   ]
  },
  {
   "cell_type": "code",
   "execution_count": 28,
   "metadata": {},
   "outputs": [],
   "source": [
    "female_data = \"Female_Faces\"\n",
    "male_data = \"Male_Faces\"\n",
    "\n",
    "target_width = 128\n",
    "target_height = 128\n",
    "\n",
    "data_dict = {}"
   ]
  },
  {
   "cell_type": "code",
   "execution_count": 29,
   "metadata": {},
   "outputs": [],
   "source": [
    "def convert_image_to_tuple(image_path):\n",
    "    # Load the image\n",
    "    image = Image.open(image_path).convert(\"RGB\").convert(\"L\")\n",
    "    resized_image = image.resize(\n",
    "        (target_width, target_height), Image.Resampling.LANCZOS\n",
    "    )\n",
    "    array = np.array(resized_image).flatten()\n",
    "    return tuple(array.tolist())\n",
    "\n",
    "\n",
    "def load_data(data, label):\n",
    "    for i in os.listdir(data):\n",
    "        if (\n",
    "            i.endswith(\".jpg\") or i.endswith(\".png\") or i.endswith(\".jpeg\")\n",
    "        ):  # Add more extensions if needed\n",
    "            image_path = os.path.join(data, i)\n",
    "            array_tuple = convert_image_to_tuple(image_path)\n",
    "            # Append the resized image to the list\n",
    "            data_dict[array_tuple] = label\n",
    "\n"
   ]
  },
  {
   "cell_type": "markdown",
   "metadata": {},
   "source": [
    "We use multithreading to speed up the process of loading the images."
   ]
  },
  {
   "cell_type": "code",
   "execution_count": 30,
   "metadata": {},
   "outputs": [
    {
     "name": "stderr",
     "output_type": "stream",
     "text": [
      "/home/camilo/.local/share/virtualenvs/Algebra_Taller1_David_Camilo-pNXIVJ8t/lib/python3.11/site-packages/PIL/Image.py:970: UserWarning: Palette images with Transparency expressed in bytes should be converted to RGBA images\n",
      "  warnings.warn(\n"
     ]
    }
   ],
   "source": [
    "thread1 = threading.Thread(target=load_data, args=(female_data, 0))\n",
    "thread2 = threading.Thread(target=load_data, args=(male_data, 1))\n",
    "\n",
    "# Start the threads\n",
    "thread1.start()\n",
    "thread2.start()\n",
    "\n",
    "# Wait for both threads to finish\n",
    "thread1.join()\n",
    "thread2.join()"
   ]
  },
  {
   "cell_type": "markdown",
   "metadata": {},
   "source": [
    "## Here we will use Logistic Regression\n"
   ]
  },
  {
   "cell_type": "code",
   "execution_count": 31,
   "metadata": {},
   "outputs": [
    {
     "name": "stderr",
     "output_type": "stream",
     "text": [
      "/home/camilo/.local/share/virtualenvs/Algebra_Taller1_David_Camilo-pNXIVJ8t/lib/python3.11/site-packages/sklearn/linear_model/_logistic.py:460: ConvergenceWarning: lbfgs failed to converge (status=1):\n",
      "STOP: TOTAL NO. of ITERATIONS REACHED LIMIT.\n",
      "\n",
      "Increase the number of iterations (max_iter) or scale the data as shown in:\n",
      "    https://scikit-learn.org/stable/modules/preprocessing.html\n",
      "Please also refer to the documentation for alternative solver options:\n",
      "    https://scikit-learn.org/stable/modules/linear_model.html#logistic-regression\n",
      "  n_iter_i = _check_optimize_result(\n"
     ]
    },
    {
     "data": {
      "text/html": [
       "<style>#sk-container-id-2 {color: black;}#sk-container-id-2 pre{padding: 0;}#sk-container-id-2 div.sk-toggleable {background-color: white;}#sk-container-id-2 label.sk-toggleable__label {cursor: pointer;display: block;width: 100%;margin-bottom: 0;padding: 0.3em;box-sizing: border-box;text-align: center;}#sk-container-id-2 label.sk-toggleable__label-arrow:before {content: \"▸\";float: left;margin-right: 0.25em;color: #696969;}#sk-container-id-2 label.sk-toggleable__label-arrow:hover:before {color: black;}#sk-container-id-2 div.sk-estimator:hover label.sk-toggleable__label-arrow:before {color: black;}#sk-container-id-2 div.sk-toggleable__content {max-height: 0;max-width: 0;overflow: hidden;text-align: left;background-color: #f0f8ff;}#sk-container-id-2 div.sk-toggleable__content pre {margin: 0.2em;color: black;border-radius: 0.25em;background-color: #f0f8ff;}#sk-container-id-2 input.sk-toggleable__control:checked~div.sk-toggleable__content {max-height: 200px;max-width: 100%;overflow: auto;}#sk-container-id-2 input.sk-toggleable__control:checked~label.sk-toggleable__label-arrow:before {content: \"▾\";}#sk-container-id-2 div.sk-estimator input.sk-toggleable__control:checked~label.sk-toggleable__label {background-color: #d4ebff;}#sk-container-id-2 div.sk-label input.sk-toggleable__control:checked~label.sk-toggleable__label {background-color: #d4ebff;}#sk-container-id-2 input.sk-hidden--visually {border: 0;clip: rect(1px 1px 1px 1px);clip: rect(1px, 1px, 1px, 1px);height: 1px;margin: -1px;overflow: hidden;padding: 0;position: absolute;width: 1px;}#sk-container-id-2 div.sk-estimator {font-family: monospace;background-color: #f0f8ff;border: 1px dotted black;border-radius: 0.25em;box-sizing: border-box;margin-bottom: 0.5em;}#sk-container-id-2 div.sk-estimator:hover {background-color: #d4ebff;}#sk-container-id-2 div.sk-parallel-item::after {content: \"\";width: 100%;border-bottom: 1px solid gray;flex-grow: 1;}#sk-container-id-2 div.sk-label:hover label.sk-toggleable__label {background-color: #d4ebff;}#sk-container-id-2 div.sk-serial::before {content: \"\";position: absolute;border-left: 1px solid gray;box-sizing: border-box;top: 0;bottom: 0;left: 50%;z-index: 0;}#sk-container-id-2 div.sk-serial {display: flex;flex-direction: column;align-items: center;background-color: white;padding-right: 0.2em;padding-left: 0.2em;position: relative;}#sk-container-id-2 div.sk-item {position: relative;z-index: 1;}#sk-container-id-2 div.sk-parallel {display: flex;align-items: stretch;justify-content: center;background-color: white;position: relative;}#sk-container-id-2 div.sk-item::before, #sk-container-id-2 div.sk-parallel-item::before {content: \"\";position: absolute;border-left: 1px solid gray;box-sizing: border-box;top: 0;bottom: 0;left: 50%;z-index: -1;}#sk-container-id-2 div.sk-parallel-item {display: flex;flex-direction: column;z-index: 1;position: relative;background-color: white;}#sk-container-id-2 div.sk-parallel-item:first-child::after {align-self: flex-end;width: 50%;}#sk-container-id-2 div.sk-parallel-item:last-child::after {align-self: flex-start;width: 50%;}#sk-container-id-2 div.sk-parallel-item:only-child::after {width: 0;}#sk-container-id-2 div.sk-dashed-wrapped {border: 1px dashed gray;margin: 0 0.4em 0.5em 0.4em;box-sizing: border-box;padding-bottom: 0.4em;background-color: white;}#sk-container-id-2 div.sk-label label {font-family: monospace;font-weight: bold;display: inline-block;line-height: 1.2em;}#sk-container-id-2 div.sk-label-container {text-align: center;}#sk-container-id-2 div.sk-container {/* jupyter's `normalize.less` sets `[hidden] { display: none; }` but bootstrap.min.css set `[hidden] { display: none !important; }` so we also need the `!important` here to be able to override the default hidden behavior on the sphinx rendered scikit-learn.org. See: https://github.com/scikit-learn/scikit-learn/issues/21755 */display: inline-block !important;position: relative;}#sk-container-id-2 div.sk-text-repr-fallback {display: none;}</style><div id=\"sk-container-id-2\" class=\"sk-top-container\"><div class=\"sk-text-repr-fallback\"><pre>LogisticRegression()</pre><b>In a Jupyter environment, please rerun this cell to show the HTML representation or trust the notebook. <br />On GitHub, the HTML representation is unable to render, please try loading this page with nbviewer.org.</b></div><div class=\"sk-container\" hidden><div class=\"sk-item\"><div class=\"sk-estimator sk-toggleable\"><input class=\"sk-toggleable__control sk-hidden--visually\" id=\"sk-estimator-id-2\" type=\"checkbox\" checked><label for=\"sk-estimator-id-2\" class=\"sk-toggleable__label sk-toggleable__label-arrow\">LogisticRegression</label><div class=\"sk-toggleable__content\"><pre>LogisticRegression()</pre></div></div></div></div></div>"
      ],
      "text/plain": [
       "LogisticRegression()"
      ]
     },
     "execution_count": 31,
     "metadata": {},
     "output_type": "execute_result"
    }
   ],
   "source": [
    "keys = list(data_dict.keys())\n",
    "values = list(data_dict.values())\n",
    "X = keys  # The image data (features)\n",
    "y = values\n",
    "\n",
    "X_train, X_test, y_train, y_test = train_test_split(\n",
    "    X, y, test_size=0.2, random_state=42\n",
    ")\n",
    "model = LogisticRegression()\n",
    "model.fit(X_train, y_train)"
   ]
  },
  {
   "cell_type": "code",
   "execution_count": 32,
   "metadata": {},
   "outputs": [
    {
     "name": "stdout",
     "output_type": "stream",
     "text": [
      "Accuracy: 0.6770186335403726\n",
      "              precision    recall  f1-score   support\n",
      "\n",
      "           0       0.62      0.64      0.63       137\n",
      "           1       0.73      0.70      0.71       185\n",
      "\n",
      "    accuracy                           0.68       322\n",
      "   macro avg       0.67      0.67      0.67       322\n",
      "weighted avg       0.68      0.68      0.68       322\n",
      "\n"
     ]
    }
   ],
   "source": [
    "y_pred = model.predict(X_test)\n",
    "\n",
    "# Evaluate the model\n",
    "accuracy = accuracy_score(y_test, y_pred)\n",
    "report = classification_report(y_test, y_pred)\n",
    "\n",
    "print(f\"Accuracy: {accuracy}\")\n",
    "print(report)"
   ]
  },
  {
   "cell_type": "markdown",
   "metadata": {},
   "source": [
    "## Now we will test the model using new images"
   ]
  },
  {
   "cell_type": "code",
   "execution_count": 33,
   "metadata": {},
   "outputs": [],
   "source": [
    "data_test_female = \"Test_images/Female/\"\n",
    "data_test_male = \"Test_images/Male/\"\n",
    "test_female_array = []\n",
    "test_male_array = []\n",
    "for i in os.listdir(data_test_female):\n",
    "    if (\n",
    "        i.endswith(\".jpg\") or i.endswith(\".png\") or i.endswith(\".jpeg\")\n",
    "    ):\n",
    "        image_path = os.path.join(data_test_female, i)\n",
    "        array_tuple = convert_image_to_tuple(image_path)\n",
    "        test_female_array.append(array_tuple)\n",
    "for i in os.listdir(data_test_male):\n",
    "    if (\n",
    "        i.endswith(\".jpg\") or i.endswith(\".png\") or i.endswith(\".jpeg\")\n",
    "    ):\n",
    "        image_path = os.path.join(data_test_male, i)\n",
    "        array_tuple = convert_image_to_tuple(image_path)\n",
    "        test_male_array.append(array_tuple)"
   ]
  },
  {
   "cell_type": "code",
   "execution_count": 34,
   "metadata": {},
   "outputs": [],
   "source": [
    "predicted_labels_female = model.predict(test_female_array)\n",
    "predicted_labels_male = model.predict(test_male_array)"
   ]
  },
  {
   "cell_type": "code",
   "execution_count": 35,
   "metadata": {},
   "outputs": [
    {
     "name": "stdout",
     "output_type": "stream",
     "text": [
      "Accuracy: 0.935251798561151\n"
     ]
    }
   ],
   "source": [
    "total_female = len(predicted_labels_female)\n",
    "print(f\"Accuracy: {1 - sum(predicted_labels_female) / total_female}\")"
   ]
  },
  {
   "cell_type": "code",
   "execution_count": 36,
   "metadata": {},
   "outputs": [
    {
     "name": "stdout",
     "output_type": "stream",
     "text": [
      "Accuracy: 0.9066852367688022\n"
     ]
    }
   ],
   "source": [
    "total_male = len(predicted_labels_male)\n",
    "print(f\"Accuracy: {sum(predicted_labels_male) / total_male}\")"
   ]
  },
  {
   "cell_type": "markdown",
   "metadata": {},
   "source": [
    "## Using KNN with Euclidean, Manhattan and Chebyshov distances\n"
   ]
  },
  {
   "cell_type": "code",
   "execution_count": 37,
   "metadata": {},
   "outputs": [],
   "source": [
    "def chebyshov(a, b):\n",
    "    return np.max(np.abs((a - b)))"
   ]
  },
  {
   "cell_type": "code",
   "execution_count": 38,
   "metadata": {},
   "outputs": [],
   "source": [
    "X_train, X_test, y_train, y_test = train_test_split(X, y, random_state=0)\n",
    "scaler = StandardScaler()\n",
    "X_train = scaler.fit_transform(X_train)\n",
    "X_test = scaler.transform(X_test)"
   ]
  },
  {
   "cell_type": "code",
   "execution_count": 39,
   "metadata": {},
   "outputs": [],
   "source": [
    "#def distance (s, f, metric='euclidean'):\n",
    "#    n_neighbors_dict = {}\n",
    "#    if metric==\"chebyshov\":\n",
    "#        def chebyshov(a, b):\n",
    "#            return np.max(np.abs((a - b)))\n",
    "#    else:\n",
    "#        for i in range(s, f):\n",
    "#            knn = KNeighborsClassifier(n_neighbors=i, metric=metric)\n",
    "#            knn.fit(X_train, y_train)\n",
    "#            y_pred = knn.predict(X_test)\n",
    "#            accuracy = accuracy_score(y_test, y_pred)\n",
    "#            report = classification_report(y_test, y_pred)\n",
    "#            n_neighbors_dict[i] = accuracy\n",
    "#        n_neighbors = max(n_neighbors_dict, key=n_neighbors_dict.get)\n",
    "#        n_accuracy = n_neighbors_dict[n_neighbors]\n",
    "#\n",
    "#        return print(f\"Best neighbors:{n_neighbors} Accuracy: {n_accuracy}\\nReport:\\n{report}\")\n"
   ]
  },
  {
   "cell_type": "code",
   "execution_count": 40,
   "metadata": {},
   "outputs": [],
   "source": [
    "def distance (s, f, p, m):\n",
    "    n_neighbors_dict = {}\n",
    "    for i in range(s, f):\n",
    "        knn = KNeighborsClassifier(n_neighbors=i, p=p, metric=m)\n",
    "        knn.fit(X_train, y_train)\n",
    "        y_pred = knn.predict(X_test)\n",
    "        accuracy = accuracy_score(y_test, y_pred)\n",
    "        report = classification_report(y_test, y_pred)\n",
    "        n_neighbors_dict[i] = accuracy\n",
    "    n_neighbors = max(n_neighbors_dict, key=n_neighbors_dict.get)\n",
    "    n_accuracy = n_neighbors_dict[n_neighbors]\n",
    "\n",
    "    return print(f\"Best neighbors:{n_neighbors} Accuracy: {n_accuracy}\\nReport:\\n{report}\")"
   ]
  },
  {
   "cell_type": "markdown",
   "metadata": {},
   "source": [
    "With euclidean distance:"
   ]
  },
  {
   "cell_type": "code",
   "execution_count": 43,
   "metadata": {},
   "outputs": [
    {
     "name": "stdout",
     "output_type": "stream",
     "text": [
      "Best neighbors:1 Accuracy: 0.7139303482587065\n",
      "Report:\n",
      "              precision    recall  f1-score   support\n",
      "\n",
      "           0       0.64      0.69      0.66       184\n",
      "           1       0.72      0.67      0.69       218\n",
      "\n",
      "    accuracy                           0.68       402\n",
      "   macro avg       0.68      0.68      0.68       402\n",
      "weighted avg       0.68      0.68      0.68       402\n",
      "\n"
     ]
    }
   ],
   "source": [
    "distance (1, 10, 2, 'minkowski')"
   ]
  },
  {
   "cell_type": "markdown",
   "metadata": {},
   "source": [
    "With Manhattan distance:"
   ]
  },
  {
   "cell_type": "code",
   "execution_count": 42,
   "metadata": {},
   "outputs": [
    {
     "name": "stdout",
     "output_type": "stream",
     "text": [
      "Best neighbors:7 Accuracy: 0.6990049751243781\n",
      "Report:\n",
      "              precision    recall  f1-score   support\n",
      "\n",
      "           0       0.63      0.64      0.63       184\n",
      "           1       0.69      0.68      0.69       218\n",
      "\n",
      "    accuracy                           0.66       402\n",
      "   macro avg       0.66      0.66      0.66       402\n",
      "weighted avg       0.66      0.66      0.66       402\n",
      "\n"
     ]
    }
   ],
   "source": [
    "distance (1, 10, 1, 'minkowski')"
   ]
  },
  {
   "cell_type": "markdown",
   "metadata": {},
   "source": [
    "With Minkowski distance:"
   ]
  },
  {
   "cell_type": "code",
   "execution_count": 45,
   "metadata": {},
   "outputs": [
    {
     "ename": "KeyboardInterrupt",
     "evalue": "",
     "output_type": "error",
     "traceback": [
      "\u001b[0;31m---------------------------------------------------------------------------\u001b[0m",
      "\u001b[0;31mKeyboardInterrupt\u001b[0m                         Traceback (most recent call last)",
      "\u001b[1;32m/home/camilo/Algebra_Taller1_David_Camilo/problema1.ipynb Cell 26\u001b[0m line \u001b[0;36m1\n\u001b[0;32m----> <a href='vscode-notebook-cell://wsl%2Bubuntu/home/camilo/Algebra_Taller1_David_Camilo/problema1.ipynb#X51sdnNjb2RlLXJlbW90ZQ%3D%3D?line=0'>1</a>\u001b[0m distance (\u001b[39m1\u001b[39;49m, \u001b[39m21\u001b[39;49m, \u001b[39m3\u001b[39;49m, \u001b[39m'\u001b[39;49m\u001b[39mminkowski\u001b[39;49m\u001b[39m'\u001b[39;49m)\n",
      "\u001b[1;32m/home/camilo/Algebra_Taller1_David_Camilo/problema1.ipynb Cell 26\u001b[0m line \u001b[0;36m6\n\u001b[1;32m      <a href='vscode-notebook-cell://wsl%2Bubuntu/home/camilo/Algebra_Taller1_David_Camilo/problema1.ipynb#X51sdnNjb2RlLXJlbW90ZQ%3D%3D?line=3'>4</a>\u001b[0m knn \u001b[39m=\u001b[39m KNeighborsClassifier(n_neighbors\u001b[39m=\u001b[39mi, p\u001b[39m=\u001b[39mp, metric\u001b[39m=\u001b[39mm)\n\u001b[1;32m      <a href='vscode-notebook-cell://wsl%2Bubuntu/home/camilo/Algebra_Taller1_David_Camilo/problema1.ipynb#X51sdnNjb2RlLXJlbW90ZQ%3D%3D?line=4'>5</a>\u001b[0m knn\u001b[39m.\u001b[39mfit(X_train, y_train)\n\u001b[0;32m----> <a href='vscode-notebook-cell://wsl%2Bubuntu/home/camilo/Algebra_Taller1_David_Camilo/problema1.ipynb#X51sdnNjb2RlLXJlbW90ZQ%3D%3D?line=5'>6</a>\u001b[0m y_pred \u001b[39m=\u001b[39m knn\u001b[39m.\u001b[39;49mpredict(X_test)\n\u001b[1;32m      <a href='vscode-notebook-cell://wsl%2Bubuntu/home/camilo/Algebra_Taller1_David_Camilo/problema1.ipynb#X51sdnNjb2RlLXJlbW90ZQ%3D%3D?line=6'>7</a>\u001b[0m accuracy \u001b[39m=\u001b[39m accuracy_score(y_test, y_pred)\n\u001b[1;32m      <a href='vscode-notebook-cell://wsl%2Bubuntu/home/camilo/Algebra_Taller1_David_Camilo/problema1.ipynb#X51sdnNjb2RlLXJlbW90ZQ%3D%3D?line=7'>8</a>\u001b[0m report \u001b[39m=\u001b[39m classification_report(y_test, y_pred)\n",
      "File \u001b[0;32m~/.local/share/virtualenvs/Algebra_Taller1_David_Camilo-pNXIVJ8t/lib/python3.11/site-packages/sklearn/neighbors/_classification.py:254\u001b[0m, in \u001b[0;36mKNeighborsClassifier.predict\u001b[0;34m(self, X)\u001b[0m\n\u001b[1;32m    250\u001b[0m \u001b[39mif\u001b[39;00m \u001b[39mself\u001b[39m\u001b[39m.\u001b[39mweights \u001b[39m==\u001b[39m \u001b[39m\"\u001b[39m\u001b[39muniform\u001b[39m\u001b[39m\"\u001b[39m:\n\u001b[1;32m    251\u001b[0m     \u001b[39mif\u001b[39;00m \u001b[39mself\u001b[39m\u001b[39m.\u001b[39m_fit_method \u001b[39m==\u001b[39m \u001b[39m\"\u001b[39m\u001b[39mbrute\u001b[39m\u001b[39m\"\u001b[39m \u001b[39mand\u001b[39;00m ArgKminClassMode\u001b[39m.\u001b[39mis_usable_for(\n\u001b[1;32m    252\u001b[0m         X, \u001b[39mself\u001b[39m\u001b[39m.\u001b[39m_fit_X, \u001b[39mself\u001b[39m\u001b[39m.\u001b[39mmetric\n\u001b[1;32m    253\u001b[0m     ):\n\u001b[0;32m--> 254\u001b[0m         probabilities \u001b[39m=\u001b[39m \u001b[39mself\u001b[39;49m\u001b[39m.\u001b[39;49mpredict_proba(X)\n\u001b[1;32m    255\u001b[0m         \u001b[39mif\u001b[39;00m \u001b[39mself\u001b[39m\u001b[39m.\u001b[39moutputs_2d_:\n\u001b[1;32m    256\u001b[0m             \u001b[39mreturn\u001b[39;00m np\u001b[39m.\u001b[39mstack(\n\u001b[1;32m    257\u001b[0m                 [\n\u001b[1;32m    258\u001b[0m                     \u001b[39mself\u001b[39m\u001b[39m.\u001b[39mclasses_[idx][np\u001b[39m.\u001b[39margmax(probas, axis\u001b[39m=\u001b[39m\u001b[39m1\u001b[39m)]\n\u001b[0;32m   (...)\u001b[0m\n\u001b[1;32m    261\u001b[0m                 axis\u001b[39m=\u001b[39m\u001b[39m1\u001b[39m,\n\u001b[1;32m    262\u001b[0m             )\n",
      "File \u001b[0;32m~/.local/share/virtualenvs/Algebra_Taller1_David_Camilo-pNXIVJ8t/lib/python3.11/site-packages/sklearn/neighbors/_classification.py:332\u001b[0m, in \u001b[0;36mKNeighborsClassifier.predict_proba\u001b[0;34m(self, X)\u001b[0m\n\u001b[1;32m    327\u001b[0m     \u001b[39melse\u001b[39;00m:\n\u001b[1;32m    328\u001b[0m         X \u001b[39m=\u001b[39m \u001b[39mself\u001b[39m\u001b[39m.\u001b[39m_validate_data(\n\u001b[1;32m    329\u001b[0m             X, accept_sparse\u001b[39m=\u001b[39m\u001b[39m\"\u001b[39m\u001b[39mcsr\u001b[39m\u001b[39m\"\u001b[39m, reset\u001b[39m=\u001b[39m\u001b[39mFalse\u001b[39;00m, order\u001b[39m=\u001b[39m\u001b[39m\"\u001b[39m\u001b[39mC\u001b[39m\u001b[39m\"\u001b[39m\n\u001b[1;32m    330\u001b[0m         )\n\u001b[0;32m--> 332\u001b[0m     probabilities \u001b[39m=\u001b[39m ArgKminClassMode\u001b[39m.\u001b[39;49mcompute(\n\u001b[1;32m    333\u001b[0m         X,\n\u001b[1;32m    334\u001b[0m         \u001b[39mself\u001b[39;49m\u001b[39m.\u001b[39;49m_fit_X,\n\u001b[1;32m    335\u001b[0m         k\u001b[39m=\u001b[39;49m\u001b[39mself\u001b[39;49m\u001b[39m.\u001b[39;49mn_neighbors,\n\u001b[1;32m    336\u001b[0m         weights\u001b[39m=\u001b[39;49m\u001b[39mself\u001b[39;49m\u001b[39m.\u001b[39;49mweights,\n\u001b[1;32m    337\u001b[0m         labels\u001b[39m=\u001b[39;49m\u001b[39mself\u001b[39;49m\u001b[39m.\u001b[39;49m_y,\n\u001b[1;32m    338\u001b[0m         unique_labels\u001b[39m=\u001b[39;49m\u001b[39mself\u001b[39;49m\u001b[39m.\u001b[39;49mclasses_,\n\u001b[1;32m    339\u001b[0m         metric\u001b[39m=\u001b[39;49mmetric,\n\u001b[1;32m    340\u001b[0m         metric_kwargs\u001b[39m=\u001b[39;49mmetric_kwargs,\n\u001b[1;32m    341\u001b[0m         \u001b[39m# `strategy=\"parallel_on_X\"` has in practice be shown\u001b[39;49;00m\n\u001b[1;32m    342\u001b[0m         \u001b[39m# to be more efficient than `strategy=\"parallel_on_Y``\u001b[39;49;00m\n\u001b[1;32m    343\u001b[0m         \u001b[39m# on many combination of datasets.\u001b[39;49;00m\n\u001b[1;32m    344\u001b[0m         \u001b[39m# Hence, we choose to enforce it here.\u001b[39;49;00m\n\u001b[1;32m    345\u001b[0m         \u001b[39m# For more information, see:\u001b[39;49;00m\n\u001b[1;32m    346\u001b[0m         \u001b[39m# https://github.com/scikit-learn/scikit-learn/pull/24076#issuecomment-1445258342  # noqa\u001b[39;49;00m\n\u001b[1;32m    347\u001b[0m         \u001b[39m# TODO: adapt the heuristic for `strategy=\"auto\"` for\u001b[39;49;00m\n\u001b[1;32m    348\u001b[0m         \u001b[39m# `ArgKminClassMode` and use `strategy=\"auto\"`.\u001b[39;49;00m\n\u001b[1;32m    349\u001b[0m         strategy\u001b[39m=\u001b[39;49m\u001b[39m\"\u001b[39;49m\u001b[39mparallel_on_X\u001b[39;49m\u001b[39m\"\u001b[39;49m,\n\u001b[1;32m    350\u001b[0m     )\n\u001b[1;32m    351\u001b[0m     \u001b[39mreturn\u001b[39;00m probabilities\n\u001b[1;32m    353\u001b[0m \u001b[39m# In that case, we do not need the distances to perform\u001b[39;00m\n\u001b[1;32m    354\u001b[0m \u001b[39m# the weighting so we do not compute them.\u001b[39;00m\n",
      "File \u001b[0;32m~/.local/share/virtualenvs/Algebra_Taller1_David_Camilo-pNXIVJ8t/lib/python3.11/site-packages/sklearn/metrics/_pairwise_distances_reduction/_dispatcher.py:585\u001b[0m, in \u001b[0;36mArgKminClassMode.compute\u001b[0;34m(cls, X, Y, k, weights, labels, unique_labels, metric, chunk_size, metric_kwargs, strategy)\u001b[0m\n\u001b[1;32m    580\u001b[0m     \u001b[39mraise\u001b[39;00m \u001b[39mValueError\u001b[39;00m(\n\u001b[1;32m    581\u001b[0m         \u001b[39m\"\u001b[39m\u001b[39mOnly the \u001b[39m\u001b[39m'\u001b[39m\u001b[39muniform\u001b[39m\u001b[39m'\u001b[39m\u001b[39m or \u001b[39m\u001b[39m'\u001b[39m\u001b[39mdistance\u001b[39m\u001b[39m'\u001b[39m\u001b[39m weights options are supported\u001b[39m\u001b[39m\"\u001b[39m\n\u001b[1;32m    582\u001b[0m         \u001b[39mf\u001b[39m\u001b[39m\"\u001b[39m\u001b[39m at this time. Got: \u001b[39m\u001b[39m{\u001b[39;00mweights\u001b[39m=}\u001b[39;00m\u001b[39m.\u001b[39m\u001b[39m\"\u001b[39m\n\u001b[1;32m    583\u001b[0m     )\n\u001b[1;32m    584\u001b[0m \u001b[39mif\u001b[39;00m X\u001b[39m.\u001b[39mdtype \u001b[39m==\u001b[39m Y\u001b[39m.\u001b[39mdtype \u001b[39m==\u001b[39m np\u001b[39m.\u001b[39mfloat64:\n\u001b[0;32m--> 585\u001b[0m     \u001b[39mreturn\u001b[39;00m ArgKminClassMode64\u001b[39m.\u001b[39;49mcompute(\n\u001b[1;32m    586\u001b[0m         X\u001b[39m=\u001b[39;49mX,\n\u001b[1;32m    587\u001b[0m         Y\u001b[39m=\u001b[39;49mY,\n\u001b[1;32m    588\u001b[0m         k\u001b[39m=\u001b[39;49mk,\n\u001b[1;32m    589\u001b[0m         weights\u001b[39m=\u001b[39;49mweights,\n\u001b[1;32m    590\u001b[0m         class_membership\u001b[39m=\u001b[39;49mnp\u001b[39m.\u001b[39;49marray(labels, dtype\u001b[39m=\u001b[39;49mnp\u001b[39m.\u001b[39;49mintp),\n\u001b[1;32m    591\u001b[0m         unique_labels\u001b[39m=\u001b[39;49mnp\u001b[39m.\u001b[39;49marray(unique_labels, dtype\u001b[39m=\u001b[39;49mnp\u001b[39m.\u001b[39;49mintp),\n\u001b[1;32m    592\u001b[0m         metric\u001b[39m=\u001b[39;49mmetric,\n\u001b[1;32m    593\u001b[0m         chunk_size\u001b[39m=\u001b[39;49mchunk_size,\n\u001b[1;32m    594\u001b[0m         metric_kwargs\u001b[39m=\u001b[39;49mmetric_kwargs,\n\u001b[1;32m    595\u001b[0m         strategy\u001b[39m=\u001b[39;49mstrategy,\n\u001b[1;32m    596\u001b[0m     )\n\u001b[1;32m    598\u001b[0m \u001b[39mif\u001b[39;00m X\u001b[39m.\u001b[39mdtype \u001b[39m==\u001b[39m Y\u001b[39m.\u001b[39mdtype \u001b[39m==\u001b[39m np\u001b[39m.\u001b[39mfloat32:\n\u001b[1;32m    599\u001b[0m     \u001b[39mreturn\u001b[39;00m ArgKminClassMode32\u001b[39m.\u001b[39mcompute(\n\u001b[1;32m    600\u001b[0m         X\u001b[39m=\u001b[39mX,\n\u001b[1;32m    601\u001b[0m         Y\u001b[39m=\u001b[39mY,\n\u001b[0;32m   (...)\u001b[0m\n\u001b[1;32m    609\u001b[0m         strategy\u001b[39m=\u001b[39mstrategy,\n\u001b[1;32m    610\u001b[0m     )\n",
      "File \u001b[0;32msklearn/metrics/_pairwise_distances_reduction/_argkmin_classmode.pyx:244\u001b[0m, in \u001b[0;36msklearn.metrics._pairwise_distances_reduction._argkmin_classmode.ArgKminClassMode64.compute\u001b[0;34m()\u001b[0m\n",
      "File \u001b[0;32m~/.local/share/virtualenvs/Algebra_Taller1_David_Camilo-pNXIVJ8t/lib/python3.11/site-packages/threadpoolctl.py:440\u001b[0m, in \u001b[0;36m_ThreadpoolLimiter.__exit__\u001b[0;34m(self, type, value, traceback)\u001b[0m\n\u001b[1;32m    437\u001b[0m \u001b[39mdef\u001b[39;00m \u001b[39m__enter__\u001b[39m(\u001b[39mself\u001b[39m):\n\u001b[1;32m    438\u001b[0m     \u001b[39mreturn\u001b[39;00m \u001b[39mself\u001b[39m\n\u001b[0;32m--> 440\u001b[0m \u001b[39mdef\u001b[39;00m \u001b[39m__exit__\u001b[39m(\u001b[39mself\u001b[39m, \u001b[39mtype\u001b[39m, value, traceback):\n\u001b[1;32m    441\u001b[0m     \u001b[39mself\u001b[39m\u001b[39m.\u001b[39mrestore_original_limits()\n\u001b[1;32m    443\u001b[0m \u001b[39m@classmethod\u001b[39m\n\u001b[1;32m    444\u001b[0m \u001b[39mdef\u001b[39;00m \u001b[39mwrap\u001b[39m(\u001b[39mcls\u001b[39m, controller, \u001b[39m*\u001b[39m, limits\u001b[39m=\u001b[39m\u001b[39mNone\u001b[39;00m, user_api\u001b[39m=\u001b[39m\u001b[39mNone\u001b[39;00m):\n",
      "\u001b[0;31mKeyboardInterrupt\u001b[0m: "
     ]
    }
   ],
   "source": [
    "distance (1, 21, 3, 'minkowski')"
   ]
  },
  {
   "cell_type": "markdown",
   "metadata": {},
   "source": [
    "With Chebyshov distance:"
   ]
  },
  {
   "cell_type": "code",
   "execution_count": null,
   "metadata": {},
   "outputs": [],
   "source": [
    "distance (1, 21, 0, 'chebyshov')"
   ]
  },
  {
   "cell_type": "code",
   "execution_count": null,
   "metadata": {},
   "outputs": [],
   "source": [
    "knn_chebyshov = KNeighborsClassifier(7, metric=chebyshov)\n",
    "knn_chebyshov.fit(X_train, y_train)\n",
    "\n",
    "y_pred = knn_chebyshov.predict(X_test)\n",
    "accuracy = accuracy_score(y_test, y_pred)\n",
    "report = classification_report(y_test, y_pred)\n",
    "\n",
    "print(f\"Accuracy: {accuracy}\")\n",
    "print(report)"
   ]
  },
  {
   "cell_type": "markdown",
   "metadata": {},
   "source": [
    "## Test internet imagies "
   ]
  },
  {
   "cell_type": "code",
   "execution_count": null,
   "metadata": {},
   "outputs": [],
   "source": [
    "input_tuple = convert_image_to_tuple('Test_internet/pexels-ali-pazani-2787341.jpg')\n",
    "y_pred_logistic_regression = model.predict([input_tuple])\n",
    "y_pred_euclidean = knn_euclidean.predict([input_tuple])\n",
    "y_pred_manhattan = knn_manhattan.predict([input_tuple])\n",
    "y_pred_chebyshov = knn_chebyshov.predict([input_tuple])\n",
    "\n",
    "print(f\"RL: {y_pred_logistic_regression} euclidean: {y_pred_euclidean} manhattan: {y_pred_manhattan} chebyshov: {y_pred_chebyshov}\")\n"
   ]
  },
  {
   "cell_type": "markdown",
   "metadata": {},
   "source": [
    "all models fail trying to identify the female"
   ]
  },
  {
   "cell_type": "code",
   "execution_count": null,
   "metadata": {},
   "outputs": [],
   "source": [
    "input_tuple = convert_image_to_tuple('Test_internet/pexels-andrea-piacquadio-774909.jpg')\n",
    "y_pred_logistic_regression = model.predict([input_tuple])\n",
    "y_pred_euclidean = knn_euclidean.predict([input_tuple])\n",
    "y_pred_manhattan = knn_manhattan.predict([input_tuple])\n",
    "y_pred_chebyshov = knn_chebyshov.predict([input_tuple])\n",
    "\n",
    "print(f\"RL: {y_pred_logistic_regression} euclidean: {y_pred_euclidean} manhattan: {y_pred_manhattan} chebyshov: {y_pred_chebyshov}\")"
   ]
  },
  {
   "cell_type": "code",
   "execution_count": null,
   "metadata": {},
   "outputs": [],
   "source": [
    "input_tuple = convert_image_to_tuple('Test_internet/pexels-pixabay-415829.jpg')\n",
    "y_pred_logistic_regression = model.predict([input_tuple])\n",
    "y_pred_euclidean = knn_euclidean.predict([input_tuple])\n",
    "y_pred_manhattan = knn_manhattan.predict([input_tuple])\n",
    "y_pred_chebyshov = knn_chebyshov.predict([input_tuple])\n",
    "\n",
    "print(f\"RL: {y_pred_logistic_regression} euclidean: {y_pred_euclidean} manhattan: {y_pred_manhattan} chebyshov: {y_pred_chebyshov}\")"
   ]
  },
  {
   "cell_type": "code",
   "execution_count": null,
   "metadata": {},
   "outputs": [],
   "source": [
    "input_tuple = convert_image_to_tuple('Test_internet/pexels-nathasha-daher-2860233.jpg')\n",
    "y_pred_logistic_regression = model.predict([input_tuple])\n",
    "y_pred_euclidean = knn_euclidean.predict([input_tuple])\n",
    "y_pred_manhattan = knn_manhattan.predict([input_tuple])\n",
    "y_pred_chebyshov = knn_chebyshov.predict([input_tuple])\n",
    "\n",
    "print(f\"RL: {y_pred_logistic_regression} euclidean: {y_pred_euclidean} manhattan: {y_pred_manhattan} chebyshov: {y_pred_chebyshov}\")"
   ]
  },
  {
   "cell_type": "code",
   "execution_count": null,
   "metadata": {},
   "outputs": [],
   "source": [
    "input_tuple = convert_image_to_tuple('Test_internet/Captura de pantalla 2023-09-19 163708.png')\n",
    "y_pred_logistic_regression = model.predict([input_tuple])\n",
    "y_pred_euclidean = knn_euclidean.predict([input_tuple])\n",
    "y_pred_manhattan = knn_manhattan.predict([input_tuple])\n",
    "y_pred_chebyshov = knn_chebyshov.predict([input_tuple])\n",
    "\n",
    "print(f\"RL: {y_pred_logistic_regression} euclidean: {y_pred_euclidean} manhattan: {y_pred_manhattan} chebyshov: {y_pred_chebyshov}\")"
   ]
  },
  {
   "cell_type": "markdown",
   "metadata": {},
   "source": [
    "all models fail trying to identify the male with long hair"
   ]
  },
  {
   "cell_type": "code",
   "execution_count": null,
   "metadata": {},
   "outputs": [],
   "source": [
    "input_tuple = convert_image_to_tuple('Test_internet/Captura de pantalla 2023-09-19 180455.png')\n",
    "y_pred_logistic_regression = model.predict([input_tuple])\n",
    "y_pred_euclidean = knn_euclidean.predict([input_tuple])\n",
    "y_pred_manhattan = knn_manhattan.predict([input_tuple])\n",
    "y_pred_chebyshov = knn_chebyshov.predict([input_tuple])\n",
    "\n",
    "print(f\"RL: {y_pred_logistic_regression} euclidean: {y_pred_euclidean} manhattan: {y_pred_manhattan} chebyshov: {y_pred_chebyshov}\")"
   ]
  },
  {
   "cell_type": "markdown",
   "metadata": {},
   "source": [
    "## Referencias\n",
    "\n",
    "* Dataset: https://www.kaggle.com/datasets/ashwingupta3012/male-and-female-faces-dataset\n",
    "* What and why behind fit_transform() and transform() in scikit-learn!: https://towardsdatascience.com/what-and-why-behind-fit-transform-vs-transform-in-scikit-learn-78f915cf96fe\n",
    "* KNeighborsClassifier: https://scikit-learn.org/stable/modules/generated/sklearn.neighbors.KNeighborsClassifier.html\n",
    "* StandardScaler: https://scikit-learn.org/stable/modules/generated/sklearn.preprocessing.StandardScaler.html\n",
    "* Clasificar con K-Nearest-Neighbor ejemplo en Python: https://www.aprendemachinelearning.com/clasificar-con-k-nearest-neighbor-ejemplo-en-python/"
   ]
  }
 ],
 "metadata": {
  "kernelspec": {
   "display_name": "Algebra_Taller1_David_Camilo-pNXIVJ8t",
   "language": "python",
   "name": "python3"
  },
  "language_info": {
   "codemirror_mode": {
    "name": "ipython",
    "version": 3
   },
   "file_extension": ".py",
   "mimetype": "text/x-python",
   "name": "python",
   "nbconvert_exporter": "python",
   "pygments_lexer": "ipython3",
   "version": "3.11.5"
  },
  "orig_nbformat": 4
 },
 "nbformat": 4,
 "nbformat_minor": 2
}
