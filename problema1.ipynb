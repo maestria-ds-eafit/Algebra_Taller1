{
 "cells": [
  {
   "cell_type": "markdown",
   "metadata": {},
   "source": [
    "# Problema 1\n",
    "Identificar el genero a partir de un retrato de persona."
   ]
  },
  {
   "cell_type": "code",
   "execution_count": 1,
   "metadata": {},
   "outputs": [],
   "source": [
    "import threading\n",
    "from PIL import Image\n",
    "import numpy as np\n",
    "import os\n",
    "from sklearn.model_selection import train_test_split\n",
    "from sklearn.metrics import accuracy_score, classification_report\n",
    "from sklearn.linear_model import LogisticRegression"
   ]
  },
  {
   "cell_type": "code",
   "execution_count": 2,
   "metadata": {},
   "outputs": [],
   "source": [
    "female_data = \"Female Faces\"\n",
    "male_data = \"Male Faces\"\n",
    "\n",
    "target_width = 128\n",
    "target_height = 128\n",
    "\n",
    "data_dict = {}"
   ]
  },
  {
   "cell_type": "code",
   "execution_count": 3,
   "metadata": {},
   "outputs": [],
   "source": [
    "def convert_image_to_tuple(image_path):\n",
    "    # Load the image\n",
    "    image = Image.open(image_path).convert(\"RGB\")\n",
    "    resized_image = image.resize(\n",
    "        (target_width, target_height), Image.Resampling.LANCZOS\n",
    "    )\n",
    "    array = np.array(resized_image).flatten()\n",
    "    return tuple(array.tolist())\n",
    "\n",
    "\n",
    "def load_data(data, label):\n",
    "    for i in os.listdir(data):\n",
    "        if (\n",
    "            i.endswith(\".jpg\") or i.endswith(\".png\") or i.endswith(\".jpeg\")\n",
    "        ):  # Add more extensions if needed\n",
    "            image_path = os.path.join(data, i)\n",
    "            array_tuple = convert_image_to_tuple(image_path)\n",
    "            # Append the resized image to the list\n",
    "            data_dict[array_tuple] = label"
   ]
  },
  {
   "cell_type": "code",
   "execution_count": 4,
   "metadata": {},
   "outputs": [
    {
     "name": "stderr",
     "output_type": "stream",
     "text": [
      "/home/camilo/.local/share/virtualenvs/Algebra_Taller1_David_Camilo-pNXIVJ8t/lib/python3.11/site-packages/PIL/Image.py:970: UserWarning: Palette images with Transparency expressed in bytes should be converted to RGBA images\n",
      "  warnings.warn(\n"
     ]
    }
   ],
   "source": [
    "thread1 = threading.Thread(target=load_data, args=(female_data, 0))\n",
    "thread2 = threading.Thread(target=load_data, args=(male_data, 1))\n",
    "\n",
    "# Start the threads\n",
    "thread1.start()\n",
    "thread2.start()\n",
    "\n",
    "# Wait for both threads to finish\n",
    "thread1.join()\n",
    "thread2.join()"
   ]
  },
  {
   "cell_type": "code",
   "execution_count": 5,
   "metadata": {},
   "outputs": [],
   "source": [
    "keys = list(data_dict.keys())\n",
    "values = list(data_dict.values())"
   ]
  },
  {
   "cell_type": "code",
   "execution_count": 6,
   "metadata": {},
   "outputs": [],
   "source": [
    "X = keys  # The image data (features)\n",
    "y = values\n",
    "\n",
    "X_train, X_test, y_train, y_test = train_test_split(\n",
    "    X, y, test_size=0.2, random_state=42\n",
    ")"
   ]
  },
  {
   "cell_type": "code",
   "execution_count": 7,
   "metadata": {},
   "outputs": [
    {
     "name": "stderr",
     "output_type": "stream",
     "text": [
      "/home/camilo/.local/share/virtualenvs/Algebra_Taller1_David_Camilo-pNXIVJ8t/lib/python3.11/site-packages/sklearn/linear_model/_logistic.py:460: ConvergenceWarning: lbfgs failed to converge (status=1):\n",
      "STOP: TOTAL NO. of ITERATIONS REACHED LIMIT.\n",
      "\n",
      "Increase the number of iterations (max_iter) or scale the data as shown in:\n",
      "    https://scikit-learn.org/stable/modules/preprocessing.html\n",
      "Please also refer to the documentation for alternative solver options:\n",
      "    https://scikit-learn.org/stable/modules/linear_model.html#logistic-regression\n",
      "  n_iter_i = _check_optimize_result(\n"
     ]
    },
    {
     "data": {
      "text/html": [
       "<style>#sk-container-id-1 {color: black;}#sk-container-id-1 pre{padding: 0;}#sk-container-id-1 div.sk-toggleable {background-color: white;}#sk-container-id-1 label.sk-toggleable__label {cursor: pointer;display: block;width: 100%;margin-bottom: 0;padding: 0.3em;box-sizing: border-box;text-align: center;}#sk-container-id-1 label.sk-toggleable__label-arrow:before {content: \"▸\";float: left;margin-right: 0.25em;color: #696969;}#sk-container-id-1 label.sk-toggleable__label-arrow:hover:before {color: black;}#sk-container-id-1 div.sk-estimator:hover label.sk-toggleable__label-arrow:before {color: black;}#sk-container-id-1 div.sk-toggleable__content {max-height: 0;max-width: 0;overflow: hidden;text-align: left;background-color: #f0f8ff;}#sk-container-id-1 div.sk-toggleable__content pre {margin: 0.2em;color: black;border-radius: 0.25em;background-color: #f0f8ff;}#sk-container-id-1 input.sk-toggleable__control:checked~div.sk-toggleable__content {max-height: 200px;max-width: 100%;overflow: auto;}#sk-container-id-1 input.sk-toggleable__control:checked~label.sk-toggleable__label-arrow:before {content: \"▾\";}#sk-container-id-1 div.sk-estimator input.sk-toggleable__control:checked~label.sk-toggleable__label {background-color: #d4ebff;}#sk-container-id-1 div.sk-label input.sk-toggleable__control:checked~label.sk-toggleable__label {background-color: #d4ebff;}#sk-container-id-1 input.sk-hidden--visually {border: 0;clip: rect(1px 1px 1px 1px);clip: rect(1px, 1px, 1px, 1px);height: 1px;margin: -1px;overflow: hidden;padding: 0;position: absolute;width: 1px;}#sk-container-id-1 div.sk-estimator {font-family: monospace;background-color: #f0f8ff;border: 1px dotted black;border-radius: 0.25em;box-sizing: border-box;margin-bottom: 0.5em;}#sk-container-id-1 div.sk-estimator:hover {background-color: #d4ebff;}#sk-container-id-1 div.sk-parallel-item::after {content: \"\";width: 100%;border-bottom: 1px solid gray;flex-grow: 1;}#sk-container-id-1 div.sk-label:hover label.sk-toggleable__label {background-color: #d4ebff;}#sk-container-id-1 div.sk-serial::before {content: \"\";position: absolute;border-left: 1px solid gray;box-sizing: border-box;top: 0;bottom: 0;left: 50%;z-index: 0;}#sk-container-id-1 div.sk-serial {display: flex;flex-direction: column;align-items: center;background-color: white;padding-right: 0.2em;padding-left: 0.2em;position: relative;}#sk-container-id-1 div.sk-item {position: relative;z-index: 1;}#sk-container-id-1 div.sk-parallel {display: flex;align-items: stretch;justify-content: center;background-color: white;position: relative;}#sk-container-id-1 div.sk-item::before, #sk-container-id-1 div.sk-parallel-item::before {content: \"\";position: absolute;border-left: 1px solid gray;box-sizing: border-box;top: 0;bottom: 0;left: 50%;z-index: -1;}#sk-container-id-1 div.sk-parallel-item {display: flex;flex-direction: column;z-index: 1;position: relative;background-color: white;}#sk-container-id-1 div.sk-parallel-item:first-child::after {align-self: flex-end;width: 50%;}#sk-container-id-1 div.sk-parallel-item:last-child::after {align-self: flex-start;width: 50%;}#sk-container-id-1 div.sk-parallel-item:only-child::after {width: 0;}#sk-container-id-1 div.sk-dashed-wrapped {border: 1px dashed gray;margin: 0 0.4em 0.5em 0.4em;box-sizing: border-box;padding-bottom: 0.4em;background-color: white;}#sk-container-id-1 div.sk-label label {font-family: monospace;font-weight: bold;display: inline-block;line-height: 1.2em;}#sk-container-id-1 div.sk-label-container {text-align: center;}#sk-container-id-1 div.sk-container {/* jupyter's `normalize.less` sets `[hidden] { display: none; }` but bootstrap.min.css set `[hidden] { display: none !important; }` so we also need the `!important` here to be able to override the default hidden behavior on the sphinx rendered scikit-learn.org. See: https://github.com/scikit-learn/scikit-learn/issues/21755 */display: inline-block !important;position: relative;}#sk-container-id-1 div.sk-text-repr-fallback {display: none;}</style><div id=\"sk-container-id-1\" class=\"sk-top-container\"><div class=\"sk-text-repr-fallback\"><pre>LogisticRegression()</pre><b>In a Jupyter environment, please rerun this cell to show the HTML representation or trust the notebook. <br />On GitHub, the HTML representation is unable to render, please try loading this page with nbviewer.org.</b></div><div class=\"sk-container\" hidden><div class=\"sk-item\"><div class=\"sk-estimator sk-toggleable\"><input class=\"sk-toggleable__control sk-hidden--visually\" id=\"sk-estimator-id-1\" type=\"checkbox\" checked><label for=\"sk-estimator-id-1\" class=\"sk-toggleable__label sk-toggleable__label-arrow\">LogisticRegression</label><div class=\"sk-toggleable__content\"><pre>LogisticRegression()</pre></div></div></div></div></div>"
      ],
      "text/plain": [
       "LogisticRegression()"
      ]
     },
     "execution_count": 7,
     "metadata": {},
     "output_type": "execute_result"
    }
   ],
   "source": [
    "model = LogisticRegression()\n",
    "model.fit(X_train, y_train)"
   ]
  },
  {
   "cell_type": "code",
   "execution_count": 8,
   "metadata": {},
   "outputs": [
    {
     "name": "stdout",
     "output_type": "stream",
     "text": [
      "Accuracy: 0.6459627329192547\n",
      "              precision    recall  f1-score   support\n",
      "\n",
      "           0       0.61      0.63      0.62       146\n",
      "           1       0.68      0.66      0.67       176\n",
      "\n",
      "    accuracy                           0.65       322\n",
      "   macro avg       0.64      0.64      0.64       322\n",
      "weighted avg       0.65      0.65      0.65       322\n",
      "\n"
     ]
    }
   ],
   "source": [
    "y_pred = model.predict(X_test)\n",
    "\n",
    "# Evaluate the model\n",
    "accuracy = accuracy_score(y_test, y_pred)\n",
    "report = classification_report(y_test, y_pred)\n",
    "\n",
    "print(f\"Accuracy: {accuracy}\")\n",
    "print(report)"
   ]
  },
  {
   "cell_type": "code",
   "execution_count": 9,
   "metadata": {},
   "outputs": [],
   "source": [
    "data_test_female = \"Test_images/Female/\"\n",
    "data_test_male = \"Test_images/Male/\"\n",
    "test_female_array = []\n",
    "test_male_array = []\n",
    "for i in os.listdir(data_test_female):\n",
    "    if (\n",
    "        i.endswith(\".jpg\") or i.endswith(\".png\") or i.endswith(\".jpeg\")\n",
    "    ):  # Add more extensions if needed\n",
    "        image_path = os.path.join(data_test_female, i)\n",
    "        array_tuple = convert_image_to_tuple(image_path)\n",
    "        test_female_array.append(array_tuple)\n",
    "for i in os.listdir(data_test_male):\n",
    "    if (\n",
    "        i.endswith(\".jpg\") or i.endswith(\".png\") or i.endswith(\".jpeg\")\n",
    "    ):  # Add more extensions if needed\n",
    "        image_path = os.path.join(data_test_male, i)\n",
    "        array_tuple = convert_image_to_tuple(image_path)\n",
    "        test_male_array.append(array_tuple)"
   ]
  },
  {
   "cell_type": "code",
   "execution_count": 10,
   "metadata": {},
   "outputs": [],
   "source": [
    "predicted_labels_female = model.predict(test_female_array)\n",
    "predicted_labels_male = model.predict(test_male_array)"
   ]
  },
  {
   "cell_type": "code",
   "execution_count": 11,
   "metadata": {},
   "outputs": [
    {
     "name": "stdout",
     "output_type": "stream",
     "text": [
      "0.07482014388489208\n"
     ]
    }
   ],
   "source": [
    "total_female = len(predicted_labels_female)\n",
    "print(sum(predicted_labels_female) / total_female)"
   ]
  },
  {
   "cell_type": "code",
   "execution_count": 12,
   "metadata": {},
   "outputs": [
    {
     "name": "stdout",
     "output_type": "stream",
     "text": [
      "0.8941504178272981\n"
     ]
    }
   ],
   "source": [
    "total_male = len(predicted_labels_male)\n",
    "print(sum(predicted_labels_male) / total_male)"
   ]
  },
  {
   "cell_type": "markdown",
   "metadata": {},
   "source": [
    "# Usando otras medidas de distancia"
   ]
  },
  {
   "cell_type": "code",
   "execution_count": 13,
   "metadata": {},
   "outputs": [],
   "source": [
    "def euclidean(a, b):\n",
    "    a = np.array(a)\n",
    "    b = np.array(b)\n",
    "    return np.sqrt(np.exp((a - b)))\n",
    "\n",
    "\n",
    "def manhattan(a, b):\n",
    "    a = np.array(a)\n",
    "    b = np.array(b)\n",
    "    return np.abs((a - b))\n",
    "\n",
    "\n",
    "def chebyshov(a, b):\n",
    "    a = np.array(a)\n",
    "    b = np.array(b)\n",
    "    return np.max(np.abs((a - b)))"
   ]
  },
  {
   "cell_type": "code",
   "execution_count": 14,
   "metadata": {},
   "outputs": [
    {
     "ename": "ValueError",
     "evalue": "The truth value of an array with more than one element is ambiguous. Use a.any() or a.all()",
     "output_type": "error",
     "traceback": [
      "\u001b[0;31m---------------------------------------------------------------------------\u001b[0m",
      "\u001b[0;31mValueError\u001b[0m                                Traceback (most recent call last)",
      "\u001b[1;32m/home/camilo/Algebra_Taller1_David_Camilo/problema1.ipynb Cell 16\u001b[0m line \u001b[0;36m1\n\u001b[1;32m     <a href='vscode-notebook-cell://wsl%2Bubuntu/home/camilo/Algebra_Taller1_David_Camilo/problema1.ipynb#X52sdnNjb2RlLXJlbW90ZQ%3D%3D?line=13'>14</a>\u001b[0m     d2_array\u001b[39m.\u001b[39mappend(d2)\n\u001b[1;32m     <a href='vscode-notebook-cell://wsl%2Bubuntu/home/camilo/Algebra_Taller1_David_Camilo/problema1.ipynb#X52sdnNjb2RlLXJlbW90ZQ%3D%3D?line=14'>15</a>\u001b[0m     d3_array\u001b[39m.\u001b[39mappend(d3)\n\u001b[0;32m---> <a href='vscode-notebook-cell://wsl%2Bubuntu/home/camilo/Algebra_Taller1_David_Camilo/problema1.ipynb#X52sdnNjb2RlLXJlbW90ZQ%3D%3D?line=15'>16</a>\u001b[0m min_index_d1 \u001b[39m=\u001b[39m d1_array\u001b[39m.\u001b[39mindex(\u001b[39mmin\u001b[39;49m(d1_array))\n\u001b[1;32m     <a href='vscode-notebook-cell://wsl%2Bubuntu/home/camilo/Algebra_Taller1_David_Camilo/problema1.ipynb#X52sdnNjb2RlLXJlbW90ZQ%3D%3D?line=16'>17</a>\u001b[0m min_index_d2 \u001b[39m=\u001b[39m d2_array\u001b[39m.\u001b[39mindex(\u001b[39mmin\u001b[39m(d2_array))\n\u001b[1;32m     <a href='vscode-notebook-cell://wsl%2Bubuntu/home/camilo/Algebra_Taller1_David_Camilo/problema1.ipynb#X52sdnNjb2RlLXJlbW90ZQ%3D%3D?line=17'>18</a>\u001b[0m min_index_d3 \u001b[39m=\u001b[39m d3_array\u001b[39m.\u001b[39mindex(\u001b[39mmin\u001b[39m(d3_array))\n",
      "\u001b[0;31mValueError\u001b[0m: The truth value of an array with more than one element is ambiguous. Use a.any() or a.all()"
     ]
    }
   ],
   "source": [
    "predicted_labels_female_euclidean = []\n",
    "predicted_labels_female_manhattan = []\n",
    "predicted_labels_female_chebyshov = []\n",
    "\n",
    "for i in test_female_array:\n",
    "    d1_array = []\n",
    "    d2_array = []\n",
    "    d3_array = []\n",
    "    try:\n",
    "        for j in X:\n",
    "            d1 = euclidean(i, j)\n",
    "            d2 = manhattan(i, j)\n",
    "            d3 = chebyshov(i, j)\n",
    "            d1_array.append(d1)\n",
    "            d2_array.append(d2)\n",
    "            d3_array.append(d3)\n",
    "        min_index_d1 = d1_array.index(min(d1_array))\n",
    "        min_index_d2 = d2_array.index(min(d2_array))\n",
    "        min_index_d3 = d3_array.index(min(d3_array))\n",
    "        predicted_labels_female_euclidean.append(y[min_index_d1])\n",
    "        predicted_labels_female_manhattan.append(y[min_index_d2])\n",
    "        predicted_labels_female_chebyshov.append(y[min_index_d3])\n",
    "    except ValueError as error:\n",
    "        print(error)\n",
    "        print(d1_array)\n",
    "        print(d2_array)\n",
    "        print(d3_array)"
   ]
  },
  {
   "cell_type": "code",
   "execution_count": null,
   "metadata": {},
   "outputs": [],
   "source": [
    "total_female = len(predicted_labels_female_euclidean)\n",
    "print(f\"efficiency in euclidean is: {sum(predicted_labels_female_euclidean) / total_female}\" )\n",
    "\n",
    "total_female = len(predicted_labels_female_manhattan)\n",
    "print(f\"efficiency in manhattan is: {sum(predicted_labels_female_manhattan) / total_female}\")\n",
    "\n",
    "total_female = len(predicted_labels_female_chebyshov)\n",
    "print(f\"efficiency in manhattan is: {sum(predicted_labels_female_chebyshov) / total_female}\")"
   ]
  },
  {
   "cell_type": "code",
   "execution_count": null,
   "metadata": {},
   "outputs": [],
   "source": [
    "predicted_labels_male_euclidean = []\n",
    "predicted_labels_male_manhattan = []\n",
    "predicted_labels_male_chebyshov = []\n",
    "\n",
    "for i in test_male_array:\n",
    "    d1_array = []\n",
    "    d2_array = []\n",
    "    d3_array = []\n",
    "    for j in X:\n",
    "        d1 = euclidean(i, j)\n",
    "        d2 = manhattan(i, j)\n",
    "        d3 = chebyshov(i, j)\n",
    "        d1_array.append(d1)\n",
    "        d2_array.append(d2)\n",
    "        d3_array.append(d3)\n",
    "    min_index_d1 = d1_array.index(min(d1_array))\n",
    "    min_index_d2 = d2_array.index(min(d2_array))\n",
    "    min_index_d3 = d3_array.index(min(d3_array))\n",
    "    predicted_labels_male_euclidean.append(y[min_index_d1])\n",
    "    predicted_labels_male_manhattan.append(y[min_index_d2])\n",
    "    predicted_labels_male_chebyshov.append(y[min_index_d3])"
   ]
  },
  {
   "cell_type": "code",
   "execution_count": null,
   "metadata": {},
   "outputs": [],
   "source": []
  },
  {
   "cell_type": "markdown",
   "metadata": {},
   "source": [
    "## Referencias\n",
    "\n",
    "Dataset: https://www.kaggle.com/datasets/ashwingupta3012/male-and-female-faces-dataset"
   ]
  }
 ],
 "metadata": {
  "kernelspec": {
   "display_name": "Algebra_Taller1_David_Camilo-pNXIVJ8t",
   "language": "python",
   "name": "python3"
  },
  "language_info": {
   "codemirror_mode": {
    "name": "ipython",
    "version": 3
   },
   "file_extension": ".py",
   "mimetype": "text/x-python",
   "name": "python",
   "nbconvert_exporter": "python",
   "pygments_lexer": "ipython3",
   "version": "3.11.5"
  },
  "orig_nbformat": 4
 },
 "nbformat": 4,
 "nbformat_minor": 2
}
