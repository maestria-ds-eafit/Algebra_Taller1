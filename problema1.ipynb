{
 "cells": [
  {
   "cell_type": "markdown",
   "metadata": {},
   "source": [
    "# Problema 1\n",
    "Identificar el genero a partir de un retrato de persona."
   ]
  },
  {
   "cell_type": "code",
   "execution_count": 1,
   "metadata": {},
   "outputs": [],
   "source": [
    "from PIL import Image\n",
    "from IPython.display import display\n",
    "import numpy as np\n",
    "import os"
   ]
  },
  {
   "cell_type": "code",
   "execution_count": 3,
   "metadata": {},
   "outputs": [],
   "source": [
    "female_data = 'Female Faces'\n",
    "male_data = 'Male Faces'\n",
    "\n",
    "target_width = 200\n",
    "target_height = 200"
   ]
  },
  {
   "cell_type": "code",
   "execution_count": 5,
   "metadata": {},
   "outputs": [
    {
     "ename": "KeyboardInterrupt",
     "evalue": "",
     "output_type": "error",
     "traceback": [
      "\u001b[0;31m---------------------------------------------------------------------------\u001b[0m",
      "\u001b[0;31mKeyboardInterrupt\u001b[0m                         Traceback (most recent call last)",
      "\u001b[1;32m/home/camilo/Algebra_Taller1_David_Camilo/problema1.ipynb Cell 4\u001b[0m line \u001b[0;36m1\n\u001b[1;32m      <a href='vscode-notebook-cell://wsl%2Bubuntu/home/camilo/Algebra_Taller1_David_Camilo/problema1.ipynb#W2sdnNjb2RlLXJlbW90ZQ%3D%3D?line=6'>7</a>\u001b[0m image \u001b[39m=\u001b[39m Image\u001b[39m.\u001b[39mopen(image_path)\n\u001b[1;32m      <a href='vscode-notebook-cell://wsl%2Bubuntu/home/camilo/Algebra_Taller1_David_Camilo/problema1.ipynb#W2sdnNjb2RlLXJlbW90ZQ%3D%3D?line=8'>9</a>\u001b[0m \u001b[39m# Resize the image while maintaining the aspect ratio using ANTIALIAS\u001b[39;00m\n\u001b[0;32m---> <a href='vscode-notebook-cell://wsl%2Bubuntu/home/camilo/Algebra_Taller1_David_Camilo/problema1.ipynb#W2sdnNjb2RlLXJlbW90ZQ%3D%3D?line=9'>10</a>\u001b[0m resized_image \u001b[39m=\u001b[39m image\u001b[39m.\u001b[39;49mresize((target_width, target_height), Image\u001b[39m.\u001b[39;49mResampling\u001b[39m.\u001b[39;49mLANCZOS)\n\u001b[1;32m     <a href='vscode-notebook-cell://wsl%2Bubuntu/home/camilo/Algebra_Taller1_David_Camilo/problema1.ipynb#W2sdnNjb2RlLXJlbW90ZQ%3D%3D?line=10'>11</a>\u001b[0m array\u001b[39m=\u001b[39mnp\u001b[39m.\u001b[39marray(resized_image)\n\u001b[1;32m     <a href='vscode-notebook-cell://wsl%2Bubuntu/home/camilo/Algebra_Taller1_David_Camilo/problema1.ipynb#W2sdnNjb2RlLXJlbW90ZQ%3D%3D?line=11'>12</a>\u001b[0m vector \u001b[39m=\u001b[39m array\u001b[39m.\u001b[39mflatten()\n",
      "File \u001b[0;32m~/.local/share/virtualenvs/Algebra_Taller1_David_Camilo-pNXIVJ8t/lib/python3.11/site-packages/PIL/Image.py:2174\u001b[0m, in \u001b[0;36mImage.resize\u001b[0;34m(self, size, resample, box, reducing_gap)\u001b[0m\n\u001b[1;32m   2166\u001b[0m             \u001b[39mself\u001b[39m \u001b[39m=\u001b[39m Image\u001b[39m.\u001b[39mreduce(\u001b[39mself\u001b[39m, factor, box\u001b[39m=\u001b[39mreduce_box)\n\u001b[1;32m   2167\u001b[0m         box \u001b[39m=\u001b[39m (\n\u001b[1;32m   2168\u001b[0m             (box[\u001b[39m0\u001b[39m] \u001b[39m-\u001b[39m reduce_box[\u001b[39m0\u001b[39m]) \u001b[39m/\u001b[39m factor_x,\n\u001b[1;32m   2169\u001b[0m             (box[\u001b[39m1\u001b[39m] \u001b[39m-\u001b[39m reduce_box[\u001b[39m1\u001b[39m]) \u001b[39m/\u001b[39m factor_y,\n\u001b[1;32m   2170\u001b[0m             (box[\u001b[39m2\u001b[39m] \u001b[39m-\u001b[39m reduce_box[\u001b[39m0\u001b[39m]) \u001b[39m/\u001b[39m factor_x,\n\u001b[1;32m   2171\u001b[0m             (box[\u001b[39m3\u001b[39m] \u001b[39m-\u001b[39m reduce_box[\u001b[39m1\u001b[39m]) \u001b[39m/\u001b[39m factor_y,\n\u001b[1;32m   2172\u001b[0m         )\n\u001b[0;32m-> 2174\u001b[0m \u001b[39mreturn\u001b[39;00m \u001b[39mself\u001b[39m\u001b[39m.\u001b[39m_new(\u001b[39mself\u001b[39;49m\u001b[39m.\u001b[39;49mim\u001b[39m.\u001b[39;49mresize(size, resample, box))\n",
      "\u001b[0;31mKeyboardInterrupt\u001b[0m: "
     ]
    }
   ],
   "source": [
    "resized_female_images = []\n",
    "\n",
    "for i in os.listdir(female_data):\n",
    "    if i.endswith('.jpg') or i.endswith('.png') or i.endswith('.jpeg'):  # Add more extensions if needed\n",
    "        # Load the image\n",
    "        image_path = os.path.join(female_data, i)\n",
    "        image = Image.open(image_path)\n",
    "\n",
    "        # Resize the image while maintaining the aspect ratio using ANTIALIAS\n",
    "        resized_image = image.resize((target_width, target_height), Image.Resampling.LANCZOS)\n",
    "        array=np.array(resized_image)\n",
    "        vector = array.flatten()\n",
    "        # Append the resized image to the list\n",
    "        resized_female_images.append(vector)\n"
   ]
  },
  {
   "cell_type": "code",
   "execution_count": null,
   "metadata": {},
   "outputs": [],
   "source": [
    "resized_male_images = []\n",
    "\n",
    "for i in os.listdir(male_data):\n",
    "    if i.endswith('.jpg') or i.endswith('.png') or i.endswith('.jpeg'):  # Add more extensions if needed\n",
    "        # Load the image\n",
    "        image_path = os.path.join(male_data, i)\n",
    "        image = Image.open(image_path)\n",
    "\n",
    "        # Resize the image while maintaining the aspect ratio using ANTIALIAS\n",
    "        resized_image = image.resize((target_width, target_height), Image.Resampling.LANCZOS)\n",
    "        array=np.array(resized_image)\n",
    "        vector = array.flatten()\n",
    "        # Append the resized image to the list\n",
    "        resized_male_images.append(vector)"
   ]
  },
  {
   "cell_type": "code",
   "execution_count": null,
   "metadata": {},
   "outputs": [],
   "source": [
    "print(len(resized_female_images))\n",
    "print(resized_female_images[1])\n",
    "print(len(resized_male_images))\n",
    "print(resized_male_images[1])"
   ]
  },
  {
   "cell_type": "code",
   "execution_count": 12,
   "metadata": {},
   "outputs": [
    {
     "ename": "NameError",
     "evalue": "name 'resized_male_images' is not defined",
     "output_type": "error",
     "traceback": [
      "\u001b[0;31m---------------------------------------------------------------------------\u001b[0m",
      "\u001b[0;31mNameError\u001b[0m                                 Traceback (most recent call last)",
      "\u001b[1;32m/home/camilo/Algebra_Taller1_David_Camilo/problema1.ipynb Cell 7\u001b[0m line \u001b[0;36m1\n\u001b[0;32m----> <a href='vscode-notebook-cell://wsl%2Bubuntu/home/camilo/Algebra_Taller1_David_Camilo/problema1.ipynb#X21sdnNjb2RlLXJlbW90ZQ%3D%3D?line=0'>1</a>\u001b[0m all_data \u001b[39m=\u001b[39m resized_female_images \u001b[39m+\u001b[39m resized_male_images\n",
      "\u001b[0;31mNameError\u001b[0m: name 'resized_male_images' is not defined"
     ]
    }
   ],
   "source": [
    "all_data = resized_female_images + resized_male_images"
   ]
  },
  {
   "cell_type": "code",
   "execution_count": 6,
   "metadata": {},
   "outputs": [],
   "source": [
    "def levenshtein_distance(s1, s2):\n",
    "    # Create a matrix to store the distances between substrings\n",
    "    matrix = [[0] * (len(s2) + 1) for _ in range(len(s1) + 1)]\n",
    "\n",
    "    # Initialize the first row and column\n",
    "    for i in range(len(s1) + 1):\n",
    "        matrix[i][0] = i\n",
    "    for j in range(len(s2) + 1):\n",
    "        matrix[0][j] = j\n",
    "\n",
    "    # Fill in the matrix using dynamic programming\n",
    "    for i in range(1, len(s1) + 1):\n",
    "        for j in range(1, len(s2) + 1):\n",
    "            cost = 0 if s1[i - 1] == s2[j - 1] else 1\n",
    "            matrix[i][j] = min(\n",
    "                matrix[i - 1][j] + 1,       # Deletion\n",
    "                matrix[i][j - 1] + 1,       # Insertion\n",
    "                matrix[i - 1][j - 1] + cost  # Substitution\n",
    "            )\n",
    "\n",
    "    # The final value in the matrix represents the Levenshtein distance\n",
    "    return matrix[len(s1)][len(s2)]"
   ]
  },
  {
   "cell_type": "code",
   "execution_count": 7,
   "metadata": {},
   "outputs": [],
   "source": [
    "def calculate_distances(word, word_list):\n",
    "    distances = {}\n",
    "    for w in word_list:\n",
    "        distance = levenshtein_distance(word, w)\n",
    "        distances[w] = distance\n",
    "    return distances"
   ]
  },
  {
   "cell_type": "code",
   "execution_count": 10,
   "metadata": {},
   "outputs": [],
   "source": [
    "face_input = Image.open(\"Test_images/Male/1 (2360).jpg\")\n",
    "face_input_resize = face_input.resize((target_width, target_height), Image.Resampling.LANCZOS)\n",
    "array_face_input=np.array(face_input_resize)\n",
    "vector_face_input = array_face_input.flatten()"
   ]
  },
  {
   "cell_type": "code",
   "execution_count": 11,
   "metadata": {},
   "outputs": [
    {
     "ename": "NameError",
     "evalue": "name 'vector_face_input' is not defined",
     "output_type": "error",
     "traceback": [
      "\u001b[0;31m---------------------------------------------------------------------------\u001b[0m",
      "\u001b[0;31mNameError\u001b[0m                                 Traceback (most recent call last)",
      "\u001b[1;32m/home/camilo/Algebra_Taller1_David_Camilo/problema1.ipynb Cell 11\u001b[0m line \u001b[0;36m1\n\u001b[0;32m----> <a href='vscode-notebook-cell://wsl%2Bubuntu/home/camilo/Algebra_Taller1_David_Camilo/problema1.ipynb#X20sdnNjb2RlLXJlbW90ZQ%3D%3D?line=0'>1</a>\u001b[0m distances \u001b[39m=\u001b[39m calculate_distances(vector_face_input, all_data)\n\u001b[1;32m      <a href='vscode-notebook-cell://wsl%2Bubuntu/home/camilo/Algebra_Taller1_David_Camilo/problema1.ipynb#X20sdnNjb2RlLXJlbW90ZQ%3D%3D?line=1'>2</a>\u001b[0m reco \u001b[39m=\u001b[39m {}\n\u001b[1;32m      <a href='vscode-notebook-cell://wsl%2Bubuntu/home/camilo/Algebra_Taller1_David_Camilo/problema1.ipynb#X20sdnNjb2RlLXJlbW90ZQ%3D%3D?line=2'>3</a>\u001b[0m faces_len \u001b[39m=\u001b[39m \u001b[39mlen\u001b[39m(all_data)\n",
      "\u001b[0;31mNameError\u001b[0m: name 'vector_face_input' is not defined"
     ]
    }
   ],
   "source": [
    "distances = calculate_distances(vector_face_input, all_data)\n",
    "reco = {}\n",
    "faces_len = len(all_data)\n",
    "for w, distance in distances.items():\n",
    "    if w [:faces_len] == vector_face_input:\n",
    "        reco[w]=distance\n",
    "\n",
    "print(reco)"
   ]
  },
  {
   "cell_type": "markdown",
   "metadata": {},
   "source": [
    "## Referencias\n",
    "\n",
    "Dataset: https://www.kaggle.com/datasets/ashwingupta3012/male-and-female-faces-dataset"
   ]
  }
 ],
 "metadata": {
  "kernelspec": {
   "display_name": "Algebra_Taller1_David_Camilo-pNXIVJ8t",
   "language": "python",
   "name": "python3"
  },
  "language_info": {
   "codemirror_mode": {
    "name": "ipython",
    "version": 3
   },
   "file_extension": ".py",
   "mimetype": "text/x-python",
   "name": "python",
   "nbconvert_exporter": "python",
   "pygments_lexer": "ipython3",
   "version": "3.11.5"
  },
  "orig_nbformat": 4
 },
 "nbformat": 4,
 "nbformat_minor": 2
}
