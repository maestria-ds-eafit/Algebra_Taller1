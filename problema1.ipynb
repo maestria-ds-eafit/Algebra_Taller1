{
 "cells": [
  {
   "cell_type": "markdown",
   "metadata": {},
   "source": [
    "# Problema 1\n",
    "Identificar el genero a partir de un retrato de persona."
   ]
  },
  {
   "cell_type": "code",
   "execution_count": 16,
   "metadata": {},
   "outputs": [],
   "source": [
    "from PIL import Image\n",
    "from IPython.display import display\n",
    "import numpy as np\n",
    "import os"
   ]
  },
  {
   "cell_type": "code",
   "execution_count": 17,
   "metadata": {},
   "outputs": [],
   "source": [
    "female_data = 'Female Faces'\n",
    "male_data = 'Male Faces'\n",
    "\n",
    "resized_female_images = []\n",
    "target_width = 200\n",
    "target_height = 200\n",
    "\n",
    "for i in os.listdir(female_data):\n",
    "    if i.endswith('.jpg') or i.endswith('.png') or i.endswith('.jpeg'):  # Add more extensions if needed\n",
    "        # Load the image\n",
    "        image_path = os.path.join(female_data, i)\n",
    "        image = Image.open(image_path)\n",
    "\n",
    "        # Resize the image while maintaining the aspect ratio using ANTIALIAS\n",
    "        resized_image = image.resize((target_width, target_height), Image.Resampling.LANCZOS)\n",
    "        array=np.array(resized_image)\n",
    "        vector = array.flatten()\n",
    "        # Append the resized image to the list\n",
    "        resized_female_images.append(vector)\n"
   ]
  },
  {
   "cell_type": "code",
   "execution_count": null,
   "metadata": {},
   "outputs": [],
   "source": [
    "print(len(resized_female_images))"
   ]
  },
  {
   "cell_type": "markdown",
   "metadata": {},
   "source": [
    "## Referencias\n",
    "\n",
    "Dataset: https://www.kaggle.com/datasets/ashwingupta3012/male-and-female-faces-dataset"
   ]
  }
 ],
 "metadata": {
  "kernelspec": {
   "display_name": "Algebra_Taller1_David_Camilo-pNXIVJ8t",
   "language": "python",
   "name": "python3"
  },
  "language_info": {
   "codemirror_mode": {
    "name": "ipython",
    "version": 3
   },
   "file_extension": ".py",
   "mimetype": "text/x-python",
   "name": "python",
   "nbconvert_exporter": "python",
   "pygments_lexer": "ipython3",
   "version": "3.11.5"
  },
  "orig_nbformat": 4
 },
 "nbformat": 4,
 "nbformat_minor": 2
}
