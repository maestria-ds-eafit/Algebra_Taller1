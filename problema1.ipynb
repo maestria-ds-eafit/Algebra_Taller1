{
 "cells": [
  {
   "cell_type": "markdown",
   "metadata": {},
   "source": [
    "# Problema 1\n",
    "\n",
    "Identificar el genero a partir del retrato de una persona.\n"
   ]
  },
  {
   "cell_type": "markdown",
   "metadata": {},
   "source": [
    "In this notebook, we are going to use:\n",
    "1. Logistic Regression and\n",
    "2. KNN\n",
    "with the help of sklearn to predict the gender of a persona given a photo."
   ]
  },
  {
   "cell_type": "code",
   "execution_count": 5,
   "metadata": {},
   "outputs": [],
   "source": [
    "import threading\n",
    "from PIL import Image\n",
    "import numpy as np\n",
    "import os\n",
    "from sklearn.model_selection import train_test_split\n",
    "from sklearn.metrics import accuracy_score, classification_report\n",
    "from sklearn.linear_model import LogisticRegression\n",
    "from sklearn.preprocessing import StandardScaler\n",
    "from sklearn.neighbors import KNeighborsClassifier"
   ]
  },
  {
   "cell_type": "code",
   "execution_count": 6,
   "metadata": {},
   "outputs": [],
   "source": [
    "female_data = \"Female_Faces\"\n",
    "male_data = \"Male_Faces\"\n",
    "\n",
    "target_width = 128\n",
    "target_height = 128\n",
    "\n",
    "data_dict = {}"
   ]
  },
  {
   "cell_type": "code",
   "execution_count": 7,
   "metadata": {},
   "outputs": [],
   "source": [
    "def convert_image_to_tuple(image_path):\n",
    "    # Load the image\n",
    "    image = Image.open(image_path).convert(\"RGB\").convert(\"L\")\n",
    "    resized_image = image.resize(\n",
    "        (target_width, target_height), Image.Resampling.LANCZOS\n",
    "    )\n",
    "    array = np.array(resized_image).flatten()\n",
    "    return tuple(array.tolist())\n",
    "\n",
    "\n",
    "def load_data(data, label):\n",
    "    for i in os.listdir(data):\n",
    "        if (\n",
    "            i.endswith(\".jpg\") or i.endswith(\".png\") or i.endswith(\".jpeg\")\n",
    "        ):  # Add more extensions if needed\n",
    "            image_path = os.path.join(data, i)\n",
    "            array_tuple = convert_image_to_tuple(image_path)\n",
    "            # Append the resized image to the list\n",
    "            data_dict[array_tuple] = label"
   ]
  },
  {
   "cell_type": "markdown",
   "metadata": {},
   "source": [
    "We use multithreading to speed up the process of loading the images."
   ]
  },
  {
   "cell_type": "code",
   "execution_count": 8,
   "metadata": {},
   "outputs": [
    {
     "name": "stderr",
     "output_type": "stream",
     "text": [
      "/home/camilo/.local/share/virtualenvs/Algebra_Taller1_David_Camilo-pNXIVJ8t/lib/python3.11/site-packages/PIL/Image.py:970: UserWarning: Palette images with Transparency expressed in bytes should be converted to RGBA images\n",
      "  warnings.warn(\n"
     ]
    }
   ],
   "source": [
    "thread1 = threading.Thread(target=load_data, args=(female_data, 0))\n",
    "thread2 = threading.Thread(target=load_data, args=(male_data, 1))\n",
    "\n",
    "# Start the threads\n",
    "thread1.start()\n",
    "thread2.start()\n",
    "\n",
    "# Wait for both threads to finish\n",
    "thread1.join()\n",
    "thread2.join()"
   ]
  },
  {
   "cell_type": "markdown",
   "metadata": {},
   "source": [
    "## Here we will use Logistic Regression\n"
   ]
  },
  {
   "cell_type": "code",
   "execution_count": 9,
   "metadata": {},
   "outputs": [
    {
     "name": "stderr",
     "output_type": "stream",
     "text": [
      "/home/camilo/.local/share/virtualenvs/Algebra_Taller1_David_Camilo-pNXIVJ8t/lib/python3.11/site-packages/sklearn/linear_model/_logistic.py:460: ConvergenceWarning: lbfgs failed to converge (status=1):\n",
      "STOP: TOTAL NO. of ITERATIONS REACHED LIMIT.\n",
      "\n",
      "Increase the number of iterations (max_iter) or scale the data as shown in:\n",
      "    https://scikit-learn.org/stable/modules/preprocessing.html\n",
      "Please also refer to the documentation for alternative solver options:\n",
      "    https://scikit-learn.org/stable/modules/linear_model.html#logistic-regression\n",
      "  n_iter_i = _check_optimize_result(\n"
     ]
    },
    {
     "data": {
      "text/html": [
       "<style>#sk-container-id-1 {color: black;}#sk-container-id-1 pre{padding: 0;}#sk-container-id-1 div.sk-toggleable {background-color: white;}#sk-container-id-1 label.sk-toggleable__label {cursor: pointer;display: block;width: 100%;margin-bottom: 0;padding: 0.3em;box-sizing: border-box;text-align: center;}#sk-container-id-1 label.sk-toggleable__label-arrow:before {content: \"▸\";float: left;margin-right: 0.25em;color: #696969;}#sk-container-id-1 label.sk-toggleable__label-arrow:hover:before {color: black;}#sk-container-id-1 div.sk-estimator:hover label.sk-toggleable__label-arrow:before {color: black;}#sk-container-id-1 div.sk-toggleable__content {max-height: 0;max-width: 0;overflow: hidden;text-align: left;background-color: #f0f8ff;}#sk-container-id-1 div.sk-toggleable__content pre {margin: 0.2em;color: black;border-radius: 0.25em;background-color: #f0f8ff;}#sk-container-id-1 input.sk-toggleable__control:checked~div.sk-toggleable__content {max-height: 200px;max-width: 100%;overflow: auto;}#sk-container-id-1 input.sk-toggleable__control:checked~label.sk-toggleable__label-arrow:before {content: \"▾\";}#sk-container-id-1 div.sk-estimator input.sk-toggleable__control:checked~label.sk-toggleable__label {background-color: #d4ebff;}#sk-container-id-1 div.sk-label input.sk-toggleable__control:checked~label.sk-toggleable__label {background-color: #d4ebff;}#sk-container-id-1 input.sk-hidden--visually {border: 0;clip: rect(1px 1px 1px 1px);clip: rect(1px, 1px, 1px, 1px);height: 1px;margin: -1px;overflow: hidden;padding: 0;position: absolute;width: 1px;}#sk-container-id-1 div.sk-estimator {font-family: monospace;background-color: #f0f8ff;border: 1px dotted black;border-radius: 0.25em;box-sizing: border-box;margin-bottom: 0.5em;}#sk-container-id-1 div.sk-estimator:hover {background-color: #d4ebff;}#sk-container-id-1 div.sk-parallel-item::after {content: \"\";width: 100%;border-bottom: 1px solid gray;flex-grow: 1;}#sk-container-id-1 div.sk-label:hover label.sk-toggleable__label {background-color: #d4ebff;}#sk-container-id-1 div.sk-serial::before {content: \"\";position: absolute;border-left: 1px solid gray;box-sizing: border-box;top: 0;bottom: 0;left: 50%;z-index: 0;}#sk-container-id-1 div.sk-serial {display: flex;flex-direction: column;align-items: center;background-color: white;padding-right: 0.2em;padding-left: 0.2em;position: relative;}#sk-container-id-1 div.sk-item {position: relative;z-index: 1;}#sk-container-id-1 div.sk-parallel {display: flex;align-items: stretch;justify-content: center;background-color: white;position: relative;}#sk-container-id-1 div.sk-item::before, #sk-container-id-1 div.sk-parallel-item::before {content: \"\";position: absolute;border-left: 1px solid gray;box-sizing: border-box;top: 0;bottom: 0;left: 50%;z-index: -1;}#sk-container-id-1 div.sk-parallel-item {display: flex;flex-direction: column;z-index: 1;position: relative;background-color: white;}#sk-container-id-1 div.sk-parallel-item:first-child::after {align-self: flex-end;width: 50%;}#sk-container-id-1 div.sk-parallel-item:last-child::after {align-self: flex-start;width: 50%;}#sk-container-id-1 div.sk-parallel-item:only-child::after {width: 0;}#sk-container-id-1 div.sk-dashed-wrapped {border: 1px dashed gray;margin: 0 0.4em 0.5em 0.4em;box-sizing: border-box;padding-bottom: 0.4em;background-color: white;}#sk-container-id-1 div.sk-label label {font-family: monospace;font-weight: bold;display: inline-block;line-height: 1.2em;}#sk-container-id-1 div.sk-label-container {text-align: center;}#sk-container-id-1 div.sk-container {/* jupyter's `normalize.less` sets `[hidden] { display: none; }` but bootstrap.min.css set `[hidden] { display: none !important; }` so we also need the `!important` here to be able to override the default hidden behavior on the sphinx rendered scikit-learn.org. See: https://github.com/scikit-learn/scikit-learn/issues/21755 */display: inline-block !important;position: relative;}#sk-container-id-1 div.sk-text-repr-fallback {display: none;}</style><div id=\"sk-container-id-1\" class=\"sk-top-container\"><div class=\"sk-text-repr-fallback\"><pre>LogisticRegression()</pre><b>In a Jupyter environment, please rerun this cell to show the HTML representation or trust the notebook. <br />On GitHub, the HTML representation is unable to render, please try loading this page with nbviewer.org.</b></div><div class=\"sk-container\" hidden><div class=\"sk-item\"><div class=\"sk-estimator sk-toggleable\"><input class=\"sk-toggleable__control sk-hidden--visually\" id=\"sk-estimator-id-1\" type=\"checkbox\" checked><label for=\"sk-estimator-id-1\" class=\"sk-toggleable__label sk-toggleable__label-arrow\">LogisticRegression</label><div class=\"sk-toggleable__content\"><pre>LogisticRegression()</pre></div></div></div></div></div>"
      ],
      "text/plain": [
       "LogisticRegression()"
      ]
     },
     "execution_count": 9,
     "metadata": {},
     "output_type": "execute_result"
    }
   ],
   "source": [
    "keys = list(data_dict.keys())\n",
    "values = list(data_dict.values())\n",
    "X = keys  # The image data (features)\n",
    "y = values\n",
    "\n",
    "X_train, X_test, y_train, y_test = train_test_split(\n",
    "    X, y, test_size=0.2, random_state=42\n",
    ")\n",
    "model = LogisticRegression()\n",
    "model.fit(X_train, y_train)"
   ]
  },
  {
   "cell_type": "code",
   "execution_count": 10,
   "metadata": {},
   "outputs": [
    {
     "name": "stdout",
     "output_type": "stream",
     "text": [
      "Accuracy: 0.6708074534161491\n",
      "              precision    recall  f1-score   support\n",
      "\n",
      "           0       0.62      0.64      0.63       140\n",
      "           1       0.71      0.70      0.71       182\n",
      "\n",
      "    accuracy                           0.67       322\n",
      "   macro avg       0.67      0.67      0.67       322\n",
      "weighted avg       0.67      0.67      0.67       322\n",
      "\n"
     ]
    }
   ],
   "source": [
    "y_pred = model.predict(X_test)\n",
    "\n",
    "# Evaluate the model\n",
    "accuracy = accuracy_score(y_test, y_pred)\n",
    "report = classification_report(y_test, y_pred)\n",
    "\n",
    "print(f\"Accuracy: {accuracy}\")\n",
    "print(report)"
   ]
  },
  {
   "cell_type": "markdown",
   "metadata": {},
   "source": [
    "## Now we will test the model using new images"
   ]
  },
  {
   "cell_type": "code",
   "execution_count": 11,
   "metadata": {},
   "outputs": [],
   "source": [
    "data_test_female = \"Test_images/Female/\"\n",
    "data_test_male = \"Test_images/Male/\"\n",
    "test_female_array = []\n",
    "test_male_array = []\n",
    "for i in os.listdir(data_test_female):\n",
    "    if i.endswith(\".jpg\") or i.endswith(\".png\") or i.endswith(\".jpeg\"):\n",
    "        image_path = os.path.join(data_test_female, i)\n",
    "        array_tuple = convert_image_to_tuple(image_path)\n",
    "        test_female_array.append(array_tuple)\n",
    "for i in os.listdir(data_test_male):\n",
    "    if i.endswith(\".jpg\") or i.endswith(\".png\") or i.endswith(\".jpeg\"):\n",
    "        image_path = os.path.join(data_test_male, i)\n",
    "        array_tuple = convert_image_to_tuple(image_path)\n",
    "        test_male_array.append(array_tuple)"
   ]
  },
  {
   "cell_type": "code",
   "execution_count": 12,
   "metadata": {},
   "outputs": [],
   "source": [
    "predicted_labels_female = model.predict(test_female_array)\n",
    "predicted_labels_male = model.predict(test_male_array)"
   ]
  },
  {
   "cell_type": "code",
   "execution_count": 13,
   "metadata": {},
   "outputs": [
    {
     "name": "stdout",
     "output_type": "stream",
     "text": [
      "Accuracy: 0.9251798561151079\n"
     ]
    }
   ],
   "source": [
    "total_female = len(predicted_labels_female)\n",
    "print(f\"Accuracy: {1 - sum(predicted_labels_female) / total_female}\")"
   ]
  },
  {
   "cell_type": "code",
   "execution_count": 14,
   "metadata": {},
   "outputs": [
    {
     "name": "stdout",
     "output_type": "stream",
     "text": [
      "Accuracy: 0.915041782729805\n"
     ]
    }
   ],
   "source": [
    "total_male = len(predicted_labels_male)\n",
    "print(f\"Accuracy: {sum(predicted_labels_male) / total_male}\")"
   ]
  },
  {
   "cell_type": "markdown",
   "metadata": {},
   "source": [
    "## Using KNN with Euclidean, Manhattan and Chebyshov distances\n"
   ]
  },
  {
   "cell_type": "code",
   "execution_count": 15,
   "metadata": {},
   "outputs": [],
   "source": [
    "def chebyshov(a, b):\n",
    "    return np.max(np.abs((a - b)))"
   ]
  },
  {
   "cell_type": "code",
   "execution_count": 16,
   "metadata": {},
   "outputs": [],
   "source": [
    "X_train, X_test, y_train, y_test = train_test_split(X, y, random_state=0)\n",
    "scaler = StandardScaler()\n",
    "X_train = scaler.fit_transform(X_train)\n",
    "X_test = scaler.transform(X_test)"
   ]
  },
  {
   "cell_type": "code",
   "execution_count": 23,
   "metadata": {},
   "outputs": [],
   "source": [
    "def distance(s, f, p, m):\n",
    "    n_neighbors_dict = {}\n",
    "    models_dict = {}\n",
    "    reports_dict = {}\n",
    "    for i in range(s, f):\n",
    "        knn = KNeighborsClassifier(n_neighbors=i, p=p, metric=m)\n",
    "        knn.fit(X_train, y_train)\n",
    "        y_pred = knn.predict(X_test)\n",
    "        accuracy = accuracy_score(y_test, y_pred)\n",
    "        report = classification_report(y_test, y_pred)\n",
    "        n_neighbors_dict[i] = accuracy\n",
    "        models_dict[i] = knn\n",
    "        reports_dict[i] = report\n",
    "    n_neighbors = max(n_neighbors_dict, key=n_neighbors_dict.get)\n",
    "    n_accuracy = n_neighbors_dict[n_neighbors]\n",
    "    n_model = models_dict[n_neighbors]\n",
    "    n_report = reports_dict[n_neighbors]\n",
    "\n",
    "    print(f\"Best neighbors:{n_neighbors} Accuracy: {n_accuracy}\\nReport:\\n{n_report}\")\n",
    "    return n_model"
   ]
  },
  {
   "cell_type": "markdown",
   "metadata": {},
   "source": [
    "With euclidean distance:"
   ]
  },
  {
   "cell_type": "code",
   "execution_count": 24,
   "metadata": {},
   "outputs": [
    {
     "name": "stdout",
     "output_type": "stream",
     "text": [
      "Best neighbors:5 Accuracy: 0.6890547263681592\n",
      "Report:\n",
      "              precision    recall  f1-score   support\n",
      "\n",
      "           0       0.62      0.69      0.66       172\n",
      "           1       0.75      0.69      0.72       230\n",
      "\n",
      "    accuracy                           0.69       402\n",
      "   macro avg       0.69      0.69      0.69       402\n",
      "weighted avg       0.69      0.69      0.69       402\n",
      "\n"
     ]
    }
   ],
   "source": [
    "knn_euclidean = distance(1, 10, 2, \"minkowski\")"
   ]
  },
  {
   "cell_type": "markdown",
   "metadata": {},
   "source": [
    "With Manhattan distance:"
   ]
  },
  {
   "cell_type": "code",
   "execution_count": 25,
   "metadata": {},
   "outputs": [
    {
     "name": "stdout",
     "output_type": "stream",
     "text": [
      "Best neighbors:9 Accuracy: 0.7064676616915423\n",
      "Report:\n",
      "              precision    recall  f1-score   support\n",
      "\n",
      "           0       0.65      0.69      0.67       172\n",
      "           1       0.76      0.72      0.74       230\n",
      "\n",
      "    accuracy                           0.71       402\n",
      "   macro avg       0.70      0.70      0.70       402\n",
      "weighted avg       0.71      0.71      0.71       402\n",
      "\n"
     ]
    }
   ],
   "source": [
    "knn_manhattan = distance(1, 10, 1, \"minkowski\")"
   ]
  },
  {
   "cell_type": "markdown",
   "metadata": {},
   "source": [
    "With Chebyshov distance:"
   ]
  },
  {
   "cell_type": "code",
   "execution_count": 26,
   "metadata": {},
   "outputs": [
    {
     "name": "stdout",
     "output_type": "stream",
     "text": [
      "Best neighbors:5 Accuracy: 0.6218905472636815\n",
      "Report:\n",
      "              precision    recall  f1-score   support\n",
      "\n",
      "           0       0.55      0.63      0.59       172\n",
      "           1       0.69      0.62      0.65       230\n",
      "\n",
      "    accuracy                           0.62       402\n",
      "   macro avg       0.62      0.62      0.62       402\n",
      "weighted avg       0.63      0.62      0.62       402\n",
      "\n"
     ]
    }
   ],
   "source": [
    "knn_chebyshov = distance(1, 10, 3, chebyshov)"
   ]
  },
  {
   "cell_type": "markdown",
   "metadata": {},
   "source": [
    "## Test internet imagies "
   ]
  },
  {
   "cell_type": "code",
   "execution_count": 27,
   "metadata": {},
   "outputs": [
    {
     "name": "stdout",
     "output_type": "stream",
     "text": [
      "RL: [1] euclidean: [1] manhattan: [0] chebyshov: [1]\n"
     ]
    }
   ],
   "source": [
    "input_tuple = convert_image_to_tuple(\"Test_internet/pexels-ali-pazani-2787341.jpg\")\n",
    "y_pred_logistic_regression = model.predict([input_tuple])\n",
    "y_pred_euclidean = knn_euclidean.predict([input_tuple])\n",
    "y_pred_manhattan = knn_manhattan.predict([input_tuple])\n",
    "y_pred_chebyshov = knn_chebyshov.predict([input_tuple])\n",
    "\n",
    "print(\n",
    "    f\"RL: {y_pred_logistic_regression} euclidean: {y_pred_euclidean} manhattan: {y_pred_manhattan} chebyshov: {y_pred_chebyshov}\"\n",
    ")"
   ]
  },
  {
   "cell_type": "code",
   "execution_count": 28,
   "metadata": {},
   "outputs": [
    {
     "name": "stdout",
     "output_type": "stream",
     "text": [
      "RL: [0] euclidean: [0] manhattan: [0] chebyshov: [0]\n"
     ]
    }
   ],
   "source": [
    "input_tuple = convert_image_to_tuple(\n",
    "    \"Test_internet/pexels-andrea-piacquadio-774909.jpg\"\n",
    ")\n",
    "y_pred_logistic_regression = model.predict([input_tuple])\n",
    "y_pred_euclidean = knn_euclidean.predict([input_tuple])\n",
    "y_pred_manhattan = knn_manhattan.predict([input_tuple])\n",
    "y_pred_chebyshov = knn_chebyshov.predict([input_tuple])\n",
    "\n",
    "print(\n",
    "    f\"RL: {y_pred_logistic_regression} euclidean: {y_pred_euclidean} manhattan: {y_pred_manhattan} chebyshov: {y_pred_chebyshov}\"\n",
    ")"
   ]
  },
  {
   "cell_type": "code",
   "execution_count": 29,
   "metadata": {},
   "outputs": [
    {
     "name": "stdout",
     "output_type": "stream",
     "text": [
      "RL: [0] euclidean: [0] manhattan: [0] chebyshov: [0]\n"
     ]
    }
   ],
   "source": [
    "input_tuple = convert_image_to_tuple(\"Test_internet/pexels-pixabay-415829.jpg\")\n",
    "y_pred_logistic_regression = model.predict([input_tuple])\n",
    "y_pred_euclidean = knn_euclidean.predict([input_tuple])\n",
    "y_pred_manhattan = knn_manhattan.predict([input_tuple])\n",
    "y_pred_chebyshov = knn_chebyshov.predict([input_tuple])\n",
    "\n",
    "print(\n",
    "    f\"RL: {y_pred_logistic_regression} euclidean: {y_pred_euclidean} manhattan: {y_pred_manhattan} chebyshov: {y_pred_chebyshov}\"\n",
    ")"
   ]
  },
  {
   "cell_type": "code",
   "execution_count": 30,
   "metadata": {},
   "outputs": [
    {
     "name": "stdout",
     "output_type": "stream",
     "text": [
      "RL: [1] euclidean: [1] manhattan: [0] chebyshov: [1]\n"
     ]
    }
   ],
   "source": [
    "input_tuple = convert_image_to_tuple(\"Test_internet/pexels-nathasha-daher-2860233.jpg\")\n",
    "y_pred_logistic_regression = model.predict([input_tuple])\n",
    "y_pred_euclidean = knn_euclidean.predict([input_tuple])\n",
    "y_pred_manhattan = knn_manhattan.predict([input_tuple])\n",
    "y_pred_chebyshov = knn_chebyshov.predict([input_tuple])\n",
    "\n",
    "print(\n",
    "    f\"RL: {y_pred_logistic_regression} euclidean: {y_pred_euclidean} manhattan: {y_pred_manhattan} chebyshov: {y_pred_chebyshov}\"\n",
    ")"
   ]
  },
  {
   "cell_type": "code",
   "execution_count": 31,
   "metadata": {},
   "outputs": [
    {
     "name": "stdout",
     "output_type": "stream",
     "text": [
      "RL: [0] euclidean: [0] manhattan: [0] chebyshov: [1]\n"
     ]
    }
   ],
   "source": [
    "input_tuple = convert_image_to_tuple(\n",
    "    \"Test_internet/Captura de pantalla 2023-09-19 163708.png\"\n",
    ")\n",
    "y_pred_logistic_regression = model.predict([input_tuple])\n",
    "y_pred_euclidean = knn_euclidean.predict([input_tuple])\n",
    "y_pred_manhattan = knn_manhattan.predict([input_tuple])\n",
    "y_pred_chebyshov = knn_chebyshov.predict([input_tuple])\n",
    "\n",
    "print(\n",
    "    f\"RL: {y_pred_logistic_regression} euclidean: {y_pred_euclidean} manhattan: {y_pred_manhattan} chebyshov: {y_pred_chebyshov}\"\n",
    ")"
   ]
  },
  {
   "cell_type": "code",
   "execution_count": 32,
   "metadata": {},
   "outputs": [
    {
     "name": "stdout",
     "output_type": "stream",
     "text": [
      "RL: [1] euclidean: [0] manhattan: [0] chebyshov: [1]\n"
     ]
    }
   ],
   "source": [
    "input_tuple = convert_image_to_tuple(\n",
    "    \"Test_internet/Captura de pantalla 2023-09-19 180455.png\"\n",
    ")\n",
    "y_pred_logistic_regression = model.predict([input_tuple])\n",
    "y_pred_euclidean = knn_euclidean.predict([input_tuple])\n",
    "y_pred_manhattan = knn_manhattan.predict([input_tuple])\n",
    "y_pred_chebyshov = knn_chebyshov.predict([input_tuple])\n",
    "\n",
    "print(\n",
    "    f\"RL: {y_pred_logistic_regression} euclidean: {y_pred_euclidean} manhattan: {y_pred_manhattan} chebyshov: {y_pred_chebyshov}\"\n",
    ")"
   ]
  },
  {
   "cell_type": "markdown",
   "metadata": {},
   "source": [
    "## Referencias\n",
    "\n",
    "* Dataset: https://www.kaggle.com/datasets/ashwingupta3012/male-and-female-faces-dataset\n",
    "* What and why behind fit_transform() and transform() in scikit-learn!: https://towardsdatascience.com/what-and-why-behind-fit-transform-vs-transform-in-scikit-learn-78f915cf96fe\n",
    "* KNeighborsClassifier: https://scikit-learn.org/stable/modules/generated/sklearn.neighbors.KNeighborsClassifier.html\n",
    "* StandardScaler: https://scikit-learn.org/stable/modules/generated/sklearn.preprocessing.StandardScaler.html\n",
    "* Clasificar con K-Nearest-Neighbor ejemplo en Python: https://www.aprendemachinelearning.com/clasificar-con-k-nearest-neighbor-ejemplo-en-python/"
   ]
  }
 ],
 "metadata": {
  "kernelspec": {
   "display_name": "Algebra_Taller1_David_Camilo-pNXIVJ8t",
   "language": "python",
   "name": "python3"
  },
  "language_info": {
   "codemirror_mode": {
    "name": "ipython",
    "version": 3
   },
   "file_extension": ".py",
   "mimetype": "text/x-python",
   "name": "python",
   "nbconvert_exporter": "python",
   "pygments_lexer": "ipython3",
   "version": "3.11.5"
  },
  "orig_nbformat": 4
 },
 "nbformat": 4,
 "nbformat_minor": 2
}
